{
  "nbformat": 4,
  "nbformat_minor": 0,
  "metadata": {
    "kernelspec": {
      "display_name": "Python 3",
      "language": "python",
      "name": "python3"
    },
    "language_info": {
      "codemirror_mode": {
        "name": "ipython",
        "version": 3
      },
      "file_extension": ".py",
      "mimetype": "text/x-python",
      "name": "python",
      "nbconvert_exporter": "python",
      "pygments_lexer": "ipython3",
      "version": "3.7.4"
    },
    "colab": {
      "name": "Basic-Python.ipynb",
      "provenance": [],
      "include_colab_link": true
    }
  },
  "cells": [
    {
      "cell_type": "markdown",
      "metadata": {
        "id": "view-in-github",
        "colab_type": "text"
      },
      "source": [
        "<a href=\"https://colab.research.google.com/github/datasciencepractice/python-essential/blob/master/Basic-Python.ipynb\" target=\"_parent\"><img src=\"https://colab.research.google.com/assets/colab-badge.svg\" alt=\"Open In Colab\"/></a>"
      ]
    },
    {
      "cell_type": "markdown",
      "metadata": {
        "id": "poVpZGGlF8mA"
      },
      "source": [
        "String Operation"
      ]
    },
    {
      "cell_type": "code",
      "metadata": {
        "id": "ySYaFE6jF8mJ"
      },
      "source": [
        "some_sentance = \"There is a space after end   \""
      ],
      "execution_count": null,
      "outputs": []
    },
    {
      "cell_type": "code",
      "metadata": {
        "id": "JEkaoa9vF8mO",
        "outputId": "a4ad8a7c-4183-4377-9b75-3f981faa8e03"
      },
      "source": [
        "print(some_sentance.rstrip())"
      ],
      "execution_count": null,
      "outputs": [
        {
          "output_type": "stream",
          "text": [
            "There is a space after end\n"
          ],
          "name": "stdout"
        }
      ]
    },
    {
      "cell_type": "code",
      "metadata": {
        "id": "VFZbjTgOF8mP"
      },
      "source": [
        "some_sentance_left = \"   There is a space before start\""
      ],
      "execution_count": null,
      "outputs": []
    },
    {
      "cell_type": "code",
      "metadata": {
        "id": "p2YP2GN1F8mQ",
        "outputId": "ddc96ff0-f81d-4033-d7c0-03acda88aefa"
      },
      "source": [
        "print(some_sentance_left.lstrip())"
      ],
      "execution_count": null,
      "outputs": [
        {
          "output_type": "stream",
          "text": [
            "There is a space after end\n"
          ],
          "name": "stdout"
        }
      ]
    },
    {
      "cell_type": "code",
      "metadata": {
        "id": "I71gTEVlF8mQ"
      },
      "source": [
        "some_sentance_both = \"   trim space    \""
      ],
      "execution_count": null,
      "outputs": []
    },
    {
      "cell_type": "code",
      "metadata": {
        "id": "OEwhpC4rF8mR",
        "outputId": "a2b48234-70c2-4ac2-d9de-1e1c391b7adc"
      },
      "source": [
        "print(some_sentance_both.strip())"
      ],
      "execution_count": null,
      "outputs": [
        {
          "output_type": "stream",
          "text": [
            "trim space\n"
          ],
          "name": "stdout"
        }
      ]
    },
    {
      "cell_type": "code",
      "metadata": {
        "id": "DVQ0dEHgF8mR"
      },
      "source": [
        "increment = \"100%\""
      ],
      "execution_count": null,
      "outputs": []
    },
    {
      "cell_type": "code",
      "metadata": {
        "id": "MpUmFctUF8mR",
        "outputId": "6fe65b49-0c1e-4f2f-93fc-b5a3f69b0aa3"
      },
      "source": [
        "print(increment.rstrip(\"%\"))"
      ],
      "execution_count": null,
      "outputs": [
        {
          "output_type": "stream",
          "text": [
            "100\n"
          ],
          "name": "stdout"
        }
      ]
    },
    {
      "cell_type": "code",
      "metadata": {
        "id": "93uCSA71F8mS"
      },
      "source": [
        "number_with_char = \"*1234#\""
      ],
      "execution_count": null,
      "outputs": []
    },
    {
      "cell_type": "code",
      "metadata": {
        "id": "Dt8TqWdAF8mS",
        "outputId": "e2ae2d95-a6b8-4712-df71-e8b708993903"
      },
      "source": [
        "print(number_with_char.lstrip(\"*\").rstrip(\"#\"))"
      ],
      "execution_count": null,
      "outputs": [
        {
          "output_type": "stream",
          "text": [
            "1234\n"
          ],
          "name": "stdout"
        }
      ]
    },
    {
      "cell_type": "markdown",
      "metadata": {
        "id": "jIihZ9sFF8mS"
      },
      "source": [
        "index and slice strings"
      ]
    },
    {
      "cell_type": "code",
      "metadata": {
        "id": "PSryG4SVF8mT",
        "outputId": "d9d58dc3-cf38-448b-bc7e-269e997f96f1"
      },
      "source": [
        "value = \"2 person\"\n",
        "no_of_man = value[0]\n",
        "print(no_of_man)"
      ],
      "execution_count": null,
      "outputs": [
        {
          "output_type": "stream",
          "text": [
            "2\n"
          ],
          "name": "stdout"
        }
      ]
    },
    {
      "cell_type": "code",
      "metadata": {
        "id": "xjcu4XkZF8mT",
        "outputId": "403c3e31-1b31-4051-825d-abd87cb29d70"
      },
      "source": [
        "print(value[2:])"
      ],
      "execution_count": null,
      "outputs": [
        {
          "output_type": "stream",
          "text": [
            "person\n"
          ],
          "name": "stdout"
        }
      ]
    },
    {
      "cell_type": "code",
      "metadata": {
        "id": "sROAOb1RF8mU",
        "outputId": "298be91c-0872-412a-931f-3df693b6a06c"
      },
      "source": [
        "print(value[2:5])"
      ],
      "execution_count": null,
      "outputs": [
        {
          "output_type": "stream",
          "text": [
            "per\n"
          ],
          "name": "stdout"
        }
      ]
    },
    {
      "cell_type": "code",
      "metadata": {
        "id": "XWKWvBKpF8mU",
        "outputId": "a038807c-c0e6-4aca-df0d-4ba4fcccf7c7"
      },
      "source": [
        "batch = \"5 oranges 3 monkeys n\"\n",
        "fruit = batch [:9]\n",
        "print(fruit)"
      ],
      "execution_count": null,
      "outputs": [
        {
          "output_type": "stream",
          "text": [
            "5 oranges\n"
          ],
          "name": "stdout"
        }
      ]
    },
    {
      "cell_type": "code",
      "metadata": {
        "id": "9OvKuS7tF8mV",
        "outputId": "95e79c6b-e036-4dbc-9cc7-9c099e246042"
      },
      "source": [
        "nums = \"123456\"\n",
        "even_nums = nums[1::2]\n",
        "print (even_nums)"
      ],
      "execution_count": null,
      "outputs": [
        {
          "output_type": "stream",
          "text": [
            "246\n"
          ],
          "name": "stdout"
        }
      ]
    },
    {
      "cell_type": "code",
      "metadata": {
        "id": "uuyqHfaoF8mV",
        "outputId": "02ae155c-f5fb-44cf-823b-c65082420ec8"
      },
      "source": [
        "odd_nums = nums[0::2]\n",
        "print(odd_nums)"
      ],
      "execution_count": null,
      "outputs": [
        {
          "output_type": "stream",
          "text": [
            "135\n"
          ],
          "name": "stdout"
        }
      ]
    },
    {
      "cell_type": "code",
      "metadata": {
        "id": "3wMnyXi7F8mV",
        "outputId": "21b1d01c-7fc3-47c8-94b0-b894ddb9dac4"
      },
      "source": [
        "A = \"Data\"\n",
        "B = \"Analysis\"\n",
        "C = \"Panda\"\n",
        "print(\"{0} {1} using {2}\".format(A,B,C))"
      ],
      "execution_count": null,
      "outputs": [
        {
          "output_type": "stream",
          "text": [
            "Data Analysis using Panda\n"
          ],
          "name": "stdout"
        }
      ]
    },
    {
      "cell_type": "markdown",
      "metadata": {
        "id": "R_fLYd-2F8mW"
      },
      "source": [
        "# Assignment\n",
        "input_str = \"Kumar_Ravi_003\"\n",
        "second_name= 'Kumar', first_name= 'Ravi', customer_code = '003'"
      ]
    },
    {
      "cell_type": "code",
      "metadata": {
        "id": "ariDZsv8F8mW",
        "outputId": "c9668efc-5ca7-4d19-d8a8-ddd7567e3e6a"
      },
      "source": [
        "input_str = \"Kumar_Ravi_003\" \n",
        "second_name=input_str[:5]\n",
        "print(second_name)"
      ],
      "execution_count": null,
      "outputs": [
        {
          "output_type": "stream",
          "text": [
            "Kumar\n"
          ],
          "name": "stdout"
        }
      ]
    },
    {
      "cell_type": "code",
      "metadata": {
        "id": "nnr0GdD6F8mW",
        "outputId": "c2a9b481-9eaf-4954-94af-497f20e7e96b"
      },
      "source": [
        "first_name=input_str[6:10]\n",
        "print(first_name)"
      ],
      "execution_count": null,
      "outputs": [
        {
          "output_type": "stream",
          "text": [
            "Ravi\n"
          ],
          "name": "stdout"
        }
      ]
    },
    {
      "cell_type": "code",
      "metadata": {
        "id": "Uig1OJu5F8mX",
        "outputId": "0f0b1842-a500-4356-fb35-28ef0161cbe6"
      },
      "source": [
        "customer_code = input_str[11:]\n",
        "print(customer_code)"
      ],
      "execution_count": null,
      "outputs": [
        {
          "output_type": "stream",
          "text": [
            "003\n"
          ],
          "name": "stdout"
        }
      ]
    },
    {
      "cell_type": "code",
      "metadata": {
        "id": "R5CTVxZQF8mX",
        "outputId": "90353409-75a4-4c6e-ca2e-e21814d0ff2f"
      },
      "source": [
        "py=\"I love Python programming\"\n",
        "print(py[7:13])"
      ],
      "execution_count": null,
      "outputs": [
        {
          "output_type": "stream",
          "text": [
            "Python\n"
          ],
          "name": "stdout"
        }
      ]
    },
    {
      "cell_type": "code",
      "metadata": {
        "id": "fW3eGhrrF8mX",
        "outputId": "823b4d2e-b6f5-43f8-e95c-954878a3e41e"
      },
      "source": [
        "print(len('Python'))"
      ],
      "execution_count": null,
      "outputs": [
        {
          "output_type": "stream",
          "text": [
            "6\n"
          ],
          "name": "stdout"
        }
      ]
    },
    {
      "cell_type": "code",
      "metadata": {
        "id": "BU7C4XGrF8mY"
      },
      "source": [
        ""
      ],
      "execution_count": null,
      "outputs": []
    }
  ]
}