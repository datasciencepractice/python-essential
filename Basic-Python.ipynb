{
  "nbformat": 4,
  "nbformat_minor": 0,
  "metadata": {
    "kernelspec": {
      "display_name": "Python 3",
      "language": "python",
      "name": "python3"
    },
    "language_info": {
      "codemirror_mode": {
        "name": "ipython",
        "version": 3
      },
      "file_extension": ".py",
      "mimetype": "text/x-python",
      "name": "python",
      "nbconvert_exporter": "python",
      "pygments_lexer": "ipython3",
      "version": "3.7.4"
    },
    "colab": {
      "name": "Basic-Python.ipynb",
      "provenance": [],
      "include_colab_link": true
    }
  },
  "cells": [
    {
      "cell_type": "markdown",
      "metadata": {
        "id": "view-in-github",
        "colab_type": "text"
      },
      "source": [
        "<a href=\"https://colab.research.google.com/github/datasciencepractice/python-essential/blob/master/Basic-Python.ipynb\" target=\"_parent\"><img src=\"https://colab.research.google.com/assets/colab-badge.svg\" alt=\"Open In Colab\"/></a>"
      ]
    },
    {
      "cell_type": "markdown",
      "metadata": {
        "id": "poVpZGGlF8mA"
      },
      "source": [
        "String Operation"
      ]
    },
    {
      "cell_type": "code",
      "metadata": {
        "id": "ySYaFE6jF8mJ"
      },
      "source": [
        "some_sentance = \"There is a space after end   \""
      ],
      "execution_count": null,
      "outputs": []
    },
    {
      "cell_type": "code",
      "metadata": {
        "id": "JEkaoa9vF8mO",
        "outputId": "a4ad8a7c-4183-4377-9b75-3f981faa8e03"
      },
      "source": [
        "print(some_sentance.rstrip())"
      ],
      "execution_count": null,
      "outputs": [
        {
          "output_type": "stream",
          "text": [
            "There is a space after end\n"
          ],
          "name": "stdout"
        }
      ]
    },
    {
      "cell_type": "code",
      "metadata": {
        "id": "VFZbjTgOF8mP"
      },
      "source": [
        "some_sentance_left = \"   There is a space before start\""
      ],
      "execution_count": null,
      "outputs": []
    },
    {
      "cell_type": "code",
      "metadata": {
        "id": "p2YP2GN1F8mQ",
        "outputId": "ddc96ff0-f81d-4033-d7c0-03acda88aefa"
      },
      "source": [
        "print(some_sentance_left.lstrip())"
      ],
      "execution_count": null,
      "outputs": [
        {
          "output_type": "stream",
          "text": [
            "There is a space after end\n"
          ],
          "name": "stdout"
        }
      ]
    },
    {
      "cell_type": "code",
      "metadata": {
        "id": "I71gTEVlF8mQ"
      },
      "source": [
        "some_sentance_both = \"   trim space    \""
      ],
      "execution_count": null,
      "outputs": []
    },
    {
      "cell_type": "code",
      "metadata": {
        "id": "OEwhpC4rF8mR",
        "outputId": "a2b48234-70c2-4ac2-d9de-1e1c391b7adc"
      },
      "source": [
        "print(some_sentance_both.strip())"
      ],
      "execution_count": null,
      "outputs": [
        {
          "output_type": "stream",
          "text": [
            "trim space\n"
          ],
          "name": "stdout"
        }
      ]
    },
    {
      "cell_type": "code",
      "metadata": {
        "id": "DVQ0dEHgF8mR"
      },
      "source": [
        "increment = \"100%\""
      ],
      "execution_count": null,
      "outputs": []
    },
    {
      "cell_type": "code",
      "metadata": {
        "id": "MpUmFctUF8mR",
        "outputId": "6fe65b49-0c1e-4f2f-93fc-b5a3f69b0aa3"
      },
      "source": [
        "print(increment.rstrip(\"%\"))"
      ],
      "execution_count": null,
      "outputs": [
        {
          "output_type": "stream",
          "text": [
            "100\n"
          ],
          "name": "stdout"
        }
      ]
    },
    {
      "cell_type": "code",
      "metadata": {
        "id": "93uCSA71F8mS"
      },
      "source": [
        "number_with_char = \"*1234#\""
      ],
      "execution_count": null,
      "outputs": []
    },
    {
      "cell_type": "code",
      "metadata": {
        "id": "Dt8TqWdAF8mS",
        "outputId": "e2ae2d95-a6b8-4712-df71-e8b708993903"
      },
      "source": [
        "print(number_with_char.lstrip(\"*\").rstrip(\"#\"))"
      ],
      "execution_count": null,
      "outputs": [
        {
          "output_type": "stream",
          "text": [
            "1234\n"
          ],
          "name": "stdout"
        }
      ]
    },
    {
      "cell_type": "markdown",
      "metadata": {
        "id": "jIihZ9sFF8mS"
      },
      "source": [
        "index and slice strings"
      ]
    },
    {
      "cell_type": "code",
      "metadata": {
        "id": "PSryG4SVF8mT",
        "outputId": "d9d58dc3-cf38-448b-bc7e-269e997f96f1"
      },
      "source": [
        "value = \"2 person\"\n",
        "no_of_man = value[0]\n",
        "print(no_of_man)"
      ],
      "execution_count": null,
      "outputs": [
        {
          "output_type": "stream",
          "text": [
            "2\n"
          ],
          "name": "stdout"
        }
      ]
    },
    {
      "cell_type": "code",
      "metadata": {
        "id": "xjcu4XkZF8mT",
        "outputId": "403c3e31-1b31-4051-825d-abd87cb29d70"
      },
      "source": [
        "print(value[2:])"
      ],
      "execution_count": null,
      "outputs": [
        {
          "output_type": "stream",
          "text": [
            "person\n"
          ],
          "name": "stdout"
        }
      ]
    },
    {
      "cell_type": "code",
      "metadata": {
        "id": "sROAOb1RF8mU",
        "outputId": "298be91c-0872-412a-931f-3df693b6a06c"
      },
      "source": [
        "print(value[2:5])"
      ],
      "execution_count": null,
      "outputs": [
        {
          "output_type": "stream",
          "text": [
            "per\n"
          ],
          "name": "stdout"
        }
      ]
    },
    {
      "cell_type": "code",
      "metadata": {
        "id": "XWKWvBKpF8mU",
        "outputId": "a038807c-c0e6-4aca-df0d-4ba4fcccf7c7"
      },
      "source": [
        "batch = \"5 oranges 3 monkeys n\"\n",
        "fruit = batch [:9]\n",
        "print(fruit)"
      ],
      "execution_count": null,
      "outputs": [
        {
          "output_type": "stream",
          "text": [
            "5 oranges\n"
          ],
          "name": "stdout"
        }
      ]
    },
    {
      "cell_type": "code",
      "metadata": {
        "id": "9OvKuS7tF8mV",
        "outputId": "95e79c6b-e036-4dbc-9cc7-9c099e246042"
      },
      "source": [
        "nums = \"123456\"\n",
        "even_nums = nums[1::2]\n",
        "print (even_nums)"
      ],
      "execution_count": null,
      "outputs": [
        {
          "output_type": "stream",
          "text": [
            "246\n"
          ],
          "name": "stdout"
        }
      ]
    },
    {
      "cell_type": "code",
      "metadata": {
        "id": "uuyqHfaoF8mV",
        "outputId": "02ae155c-f5fb-44cf-823b-c65082420ec8"
      },
      "source": [
        "odd_nums = nums[0::2]\n",
        "print(odd_nums)"
      ],
      "execution_count": null,
      "outputs": [
        {
          "output_type": "stream",
          "text": [
            "135\n"
          ],
          "name": "stdout"
        }
      ]
    },
    {
      "cell_type": "code",
      "metadata": {
        "id": "3wMnyXi7F8mV",
        "outputId": "21b1d01c-7fc3-47c8-94b0-b894ddb9dac4"
      },
      "source": [
        "A = \"Data\"\n",
        "B = \"Analysis\"\n",
        "C = \"Panda\"\n",
        "print(\"{0} {1} using {2}\".format(A,B,C))"
      ],
      "execution_count": null,
      "outputs": [
        {
          "output_type": "stream",
          "text": [
            "Data Analysis using Panda\n"
          ],
          "name": "stdout"
        }
      ]
    },
    {
      "cell_type": "markdown",
      "metadata": {
        "id": "R_fLYd-2F8mW"
      },
      "source": [
        "# Assignment\n",
        "input_str = \"Kumar_Ravi_003\"\n",
        "second_name= 'Kumar', first_name= 'Ravi', customer_code = '003'"
      ]
    },
    {
      "cell_type": "code",
      "metadata": {
        "id": "ariDZsv8F8mW",
        "outputId": "c9668efc-5ca7-4d19-d8a8-ddd7567e3e6a"
      },
      "source": [
        "input_str = \"Kumar_Ravi_003\" \n",
        "second_name=input_str[:5]\n",
        "print(second_name)"
      ],
      "execution_count": null,
      "outputs": [
        {
          "output_type": "stream",
          "text": [
            "Kumar\n"
          ],
          "name": "stdout"
        }
      ]
    },
    {
      "cell_type": "code",
      "metadata": {
        "id": "nnr0GdD6F8mW",
        "outputId": "c2a9b481-9eaf-4954-94af-497f20e7e96b"
      },
      "source": [
        "first_name=input_str[6:10]\n",
        "print(first_name)"
      ],
      "execution_count": null,
      "outputs": [
        {
          "output_type": "stream",
          "text": [
            "Ravi\n"
          ],
          "name": "stdout"
        }
      ]
    },
    {
      "cell_type": "code",
      "metadata": {
        "id": "Uig1OJu5F8mX",
        "outputId": "0f0b1842-a500-4356-fb35-28ef0161cbe6"
      },
      "source": [
        "customer_code = input_str[11:]\n",
        "print(customer_code)"
      ],
      "execution_count": null,
      "outputs": [
        {
          "output_type": "stream",
          "text": [
            "003\n"
          ],
          "name": "stdout"
        }
      ]
    },
    {
      "cell_type": "code",
      "metadata": {
        "id": "R5CTVxZQF8mX",
        "outputId": "90353409-75a4-4c6e-ca2e-e21814d0ff2f"
      },
      "source": [
        "py=\"I love Python programming\"\n",
        "print(py[7:13])"
      ],
      "execution_count": null,
      "outputs": [
        {
          "output_type": "stream",
          "text": [
            "Python\n"
          ],
          "name": "stdout"
        }
      ]
    },
    {
      "cell_type": "code",
      "metadata": {
        "id": "fW3eGhrrF8mX",
        "outputId": "823b4d2e-b6f5-43f8-e95c-954878a3e41e"
      },
      "source": [
        "print(len('Python'))"
      ],
      "execution_count": null,
      "outputs": [
        {
          "output_type": "stream",
          "text": [
            "6\n"
          ],
          "name": "stdout"
        }
      ]
    },
    {
      "cell_type": "code",
      "metadata": {
        "id": "BU7C4XGrF8mY"
      },
      "source": [
        "input_list=['SAS', 'R', 'PYTHON', 'SPSS']"
      ],
      "execution_count": null,
      "outputs": []
    },
    {
      "cell_type": "code",
      "metadata": {
        "id": "oUkyWlNYG4E3"
      },
      "source": [
        "input_list.remove('SPSS')"
      ],
      "execution_count": null,
      "outputs": []
    },
    {
      "cell_type": "code",
      "metadata": {
        "id": "mLxgzxNsHr3y"
      },
      "source": [
        "input_list.append('SPARK')"
      ],
      "execution_count": null,
      "outputs": []
    },
    {
      "cell_type": "code",
      "metadata": {
        "id": "iVmVQJYdHxoU",
        "colab": {
          "base_uri": "https://localhost:8080/"
        },
        "outputId": "02a1c42f-236d-4a64-8fb1-e56beee6a7cb"
      },
      "source": [
        "input_list"
      ],
      "execution_count": null,
      "outputs": [
        {
          "output_type": "execute_result",
          "data": {
            "text/plain": [
              "['SAS', 'R', 'PYTHON', 'SPARK']"
            ]
          },
          "metadata": {
            "tags": []
          },
          "execution_count": 5
        }
      ]
    },
    {
      "cell_type": "code",
      "metadata": {
        "id": "YdbE26NFHy5I"
      },
      "source": [
        "input_str = 'I love Data Science & Python'"
      ],
      "execution_count": null,
      "outputs": []
    },
    {
      "cell_type": "code",
      "metadata": {
        "id": "fCyG7iZcINlp",
        "colab": {
          "base_uri": "https://localhost:8080/"
        },
        "outputId": "b251365f-2bcf-4c66-f6de-15ab0106dd37"
      },
      "source": [
        "input_str.split('&')"
      ],
      "execution_count": null,
      "outputs": [
        {
          "output_type": "execute_result",
          "data": {
            "text/plain": [
              "['I love Data Science ', ' Python']"
            ]
          },
          "metadata": {
            "tags": []
          },
          "execution_count": 7
        }
      ]
    },
    {
      "cell_type": "code",
      "metadata": {
        "id": "iIK9YyMfI-RC"
      },
      "source": [
        "input_str1 = \"Pythons syntax is easy to learn,Pythons syntax is very clear\""
      ],
      "execution_count": null,
      "outputs": []
    },
    {
      "cell_type": "code",
      "metadata": {
        "id": "p2KK-uTCL81r"
      },
      "source": [
        "input_str = input_str1.split(',')"
      ],
      "execution_count": null,
      "outputs": []
    },
    {
      "cell_type": "code",
      "metadata": {
        "id": "5bFd0oTMJTeR",
        "colab": {
          "base_uri": "https://localhost:8080/",
          "height": 35
        },
        "outputId": "14c2ad81-60e2-4d3b-9129-c66f57df9ff6"
      },
      "source": [
        "#input_str.replace(',',' & ')\n",
        "\" & \".join(input_str)"
      ],
      "execution_count": null,
      "outputs": [
        {
          "output_type": "execute_result",
          "data": {
            "application/vnd.google.colaboratory.intrinsic+json": {
              "type": "string"
            },
            "text/plain": [
              "'Pythons syntax is easy to learn & Pythons syntax is very clear'"
            ]
          },
          "metadata": {
            "tags": []
          },
          "execution_count": 33
        }
      ]
    },
    {
      "cell_type": "code",
      "metadata": {
        "id": "KRhx7m-RJaGk"
      },
      "source": [
        "input_list =  [['SAS','R'],['Tableau','SQL'],['Python','Java']]"
      ],
      "execution_count": null,
      "outputs": []
    },
    {
      "cell_type": "code",
      "metadata": {
        "id": "8ifH85ZnRDX_",
        "colab": {
          "base_uri": "https://localhost:8080/",
          "height": 35
        },
        "outputId": "689afb58-f691-48ab-907c-aefcb2cf389f"
      },
      "source": [
        "input_list[2][0]"
      ],
      "execution_count": null,
      "outputs": [
        {
          "output_type": "execute_result",
          "data": {
            "application/vnd.google.colaboratory.intrinsic+json": {
              "type": "string"
            },
            "text/plain": [
              "'Python'"
            ]
          },
          "metadata": {
            "tags": []
          },
          "execution_count": 43
        }
      ]
    },
    {
      "cell_type": "code",
      "metadata": {
        "id": "8mZ__Y6_RM7H"
      },
      "source": [
        "names=[1,2,3,4,5]"
      ],
      "execution_count": null,
      "outputs": []
    },
    {
      "cell_type": "code",
      "metadata": {
        "id": "Mv8g2tTtR-4l",
        "colab": {
          "base_uri": "https://localhost:8080/"
        },
        "outputId": "bfa8641c-6909-497a-e870-397453a37ed4"
      },
      "source": [
        "names[:3]"
      ],
      "execution_count": null,
      "outputs": [
        {
          "output_type": "execute_result",
          "data": {
            "text/plain": [
              "[1, 2, 3]"
            ]
          },
          "metadata": {
            "tags": []
          },
          "execution_count": 45
        }
      ]
    },
    {
      "cell_type": "code",
      "metadata": {
        "id": "G72QWDJYSDoK",
        "colab": {
          "base_uri": "https://localhost:8080/"
        },
        "outputId": "941c8a70-9c3c-40ab-ffd2-5b7f82f82b61"
      },
      "source": [
        "names[0:3]"
      ],
      "execution_count": null,
      "outputs": [
        {
          "output_type": "execute_result",
          "data": {
            "text/plain": [
              "[1, 2, 3]"
            ]
          },
          "metadata": {
            "tags": []
          },
          "execution_count": 48
        }
      ]
    },
    {
      "cell_type": "code",
      "metadata": {
        "id": "pLedetA0SJ87"
      },
      "source": [
        "input_tuple = ('Monty Python', 'British', 1969)"
      ],
      "execution_count": null,
      "outputs": []
    },
    {
      "cell_type": "code",
      "metadata": {
        "id": "8X4JeLBnTWDl"
      },
      "source": [
        "list1 = list(input_tuple)\n",
        "list1.append(\"Python\")\n",
        "tuple_2 = tuple(list1)"
      ],
      "execution_count": null,
      "outputs": []
    },
    {
      "cell_type": "code",
      "metadata": {
        "id": "vV7gpDJ1TiN_",
        "colab": {
          "base_uri": "https://localhost:8080/"
        },
        "outputId": "eac69a41-f2fe-46e7-9008-939606422656"
      },
      "source": [
        "tuple_2"
      ],
      "execution_count": null,
      "outputs": [
        {
          "output_type": "execute_result",
          "data": {
            "text/plain": [
              "('Monty Python', 'British', 1969, 'Python')"
            ]
          },
          "metadata": {
            "tags": []
          },
          "execution_count": 79
        }
      ]
    },
    {
      "cell_type": "code",
      "metadata": {
        "id": "CK4QZgmAUoPN"
      },
      "source": [
        "t = (1, 2, 4, 3)"
      ],
      "execution_count": null,
      "outputs": []
    },
    {
      "cell_type": "code",
      "metadata": {
        "id": "MSUojlsZXCbY",
        "colab": {
          "base_uri": "https://localhost:8080/",
          "height": 166
        },
        "outputId": "f0797367-641f-4ebf-e983-816c1bd8dd91"
      },
      "source": [
        "t[3] = 5"
      ],
      "execution_count": null,
      "outputs": [
        {
          "output_type": "error",
          "ename": "TypeError",
          "evalue": "ignored",
          "traceback": [
            "\u001b[0;31m---------------------------------------------------------------------------\u001b[0m",
            "\u001b[0;31mTypeError\u001b[0m                                 Traceback (most recent call last)",
            "\u001b[0;32m<ipython-input-81-bd39e8458e74>\u001b[0m in \u001b[0;36m<module>\u001b[0;34m()\u001b[0m\n\u001b[0;32m----> 1\u001b[0;31m \u001b[0mt\u001b[0m\u001b[0;34m[\u001b[0m\u001b[0;36m3\u001b[0m\u001b[0;34m]\u001b[0m \u001b[0;34m=\u001b[0m \u001b[0;36m5\u001b[0m\u001b[0;34m\u001b[0m\u001b[0;34m\u001b[0m\u001b[0m\n\u001b[0m",
            "\u001b[0;31mTypeError\u001b[0m: 'tuple' object does not support item assignment"
          ]
        }
      ]
    },
    {
      "cell_type": "code",
      "metadata": {
        "id": "Ty-e3iLzXKbg"
      },
      "source": [
        "input_dict={'Name': 'Monty', 'Profession': 'Singer' }"
      ],
      "execution_count": null,
      "outputs": []
    },
    {
      "cell_type": "code",
      "metadata": {
        "id": "FQDMfeSgX38g",
        "colab": {
          "base_uri": "https://localhost:8080/",
          "height": 35
        },
        "outputId": "ea7b60f1-7eec-4818-cf7e-c2ee2fbf773f"
      },
      "source": [
        "input_dict.get(\"Label\", \"NA\")"
      ],
      "execution_count": null,
      "outputs": [
        {
          "output_type": "execute_result",
          "data": {
            "application/vnd.google.colaboratory.intrinsic+json": {
              "type": "string"
            },
            "text/plain": [
              "'NA'"
            ]
          },
          "metadata": {
            "tags": []
          },
          "execution_count": 85
        }
      ]
    },
    {
      "cell_type": "code",
      "metadata": {
        "id": "W4MQ2XLVX_8e"
      },
      "source": [
        "input_dict= {'Jack Dorsey': 'Twitter', 'Tim Cook': 'Apple','Jeff Bezos': 'Amazon','Mukesh Ambani': 'RJIO'}"
      ],
      "execution_count": null,
      "outputs": []
    },
    {
      "cell_type": "code",
      "metadata": {
        "id": "-shGcdSuYusk",
        "colab": {
          "base_uri": "https://localhost:8080/",
          "height": 35
        },
        "outputId": "6b00ccbb-547c-41e1-c615-4ed255603a43"
      },
      "source": [
        "input_dict.get(\"Tim Cook\", \"NA\")"
      ],
      "execution_count": null,
      "outputs": [
        {
          "output_type": "execute_result",
          "data": {
            "application/vnd.google.colaboratory.intrinsic+json": {
              "type": "string"
            },
            "text/plain": [
              "'Apple'"
            ]
          },
          "metadata": {
            "tags": []
          },
          "execution_count": 88
        }
      ]
    },
    {
      "cell_type": "code",
      "metadata": {
        "id": "PzfV1pZoY8ff"
      },
      "source": [
        "input_dict = {'Jack Dorsey' : 'Twitter' , 'Tim Cook' : 'Apple','Jeff Bezos' : 'Amazon' ,'Mukesh Ambani' : 'RJIO'}"
      ],
      "execution_count": null,
      "outputs": []
    },
    {
      "cell_type": "code",
      "metadata": {
        "id": "oAg91jv8ZROk",
        "colab": {
          "base_uri": "https://localhost:8080/"
        },
        "outputId": "f9b6f28f-992c-44d8-9566-839a80336c61"
      },
      "source": [
        "sorted(list(input_dict.values()))"
      ],
      "execution_count": null,
      "outputs": [
        {
          "output_type": "execute_result",
          "data": {
            "text/plain": [
              "['Amazon', 'Apple', 'RJIO', 'Twitter']"
            ]
          },
          "metadata": {
            "tags": []
          },
          "execution_count": 96
        }
      ]
    },
    {
      "cell_type": "code",
      "metadata": {
        "id": "Xlzx4TY3ZXV7"
      },
      "source": [
        "d = dict(a=1, b=2)"
      ],
      "execution_count": null,
      "outputs": []
    },
    {
      "cell_type": "code",
      "metadata": {
        "id": "hhvYuNelaB9w",
        "colab": {
          "base_uri": "https://localhost:8080/"
        },
        "outputId": "0fd63544-7577-4292-92c1-e3bf92ca40b6"
      },
      "source": [
        "type(d)"
      ],
      "execution_count": null,
      "outputs": [
        {
          "output_type": "execute_result",
          "data": {
            "text/plain": [
              "dict"
            ]
          },
          "metadata": {
            "tags": []
          },
          "execution_count": 99
        }
      ]
    },
    {
      "cell_type": "code",
      "metadata": {
        "id": "tf4eZ5mOaFDC"
      },
      "source": [
        "d = {'a':1, 'b':2}"
      ],
      "execution_count": null,
      "outputs": []
    },
    {
      "cell_type": "code",
      "metadata": {
        "id": "y82wsD9-aNDZ"
      },
      "source": [
        "dict_1 = {\"Python\":40, \"R\":45}"
      ],
      "execution_count": null,
      "outputs": []
    },
    {
      "cell_type": "code",
      "metadata": {
        "id": "GucVkURtaaOe"
      },
      "source": [
        "del dict_1[\"R\"]"
      ],
      "execution_count": null,
      "outputs": []
    },
    {
      "cell_type": "code",
      "metadata": {
        "id": "YWpZPf9Zak0W",
        "colab": {
          "base_uri": "https://localhost:8080/"
        },
        "outputId": "b4cfeeaf-9ee2-4145-8f2f-de2bfe55e4ce"
      },
      "source": [
        "dict_1"
      ],
      "execution_count": null,
      "outputs": [
        {
          "output_type": "execute_result",
          "data": {
            "text/plain": [
              "{'Python': 40}"
            ]
          },
          "metadata": {
            "tags": []
          },
          "execution_count": 111
        }
      ]
    },
    {
      "cell_type": "code",
      "metadata": {
        "id": "bFbAT9YmauIy",
        "colab": {
          "base_uri": "https://localhost:8080/"
        },
        "outputId": "ce92d362-1c08-41d8-d901-bdb1cebc1df8"
      },
      "source": [
        "d = {'Python':40, 'R':45}\n",
        "print(list(d.keys()))"
      ],
      "execution_count": null,
      "outputs": [
        {
          "output_type": "stream",
          "text": [
            "['Python', 'R']\n"
          ],
          "name": "stdout"
        }
      ]
    },
    {
      "cell_type": "code",
      "metadata": {
        "id": "KJJcB2mIbdDc"
      },
      "source": [
        "list_1 = [1,2,3,4,5,6]\n",
        "list_2 =[2,3,4,5,6,7,8,9]"
      ],
      "execution_count": null,
      "outputs": []
    },
    {
      "cell_type": "code",
      "metadata": {
        "id": "AcYBZJUhcD7-"
      },
      "source": [
        "set_1 = set((list_1))\n",
        "set_2 = set((list_2))"
      ],
      "execution_count": null,
      "outputs": []
    },
    {
      "cell_type": "code",
      "metadata": {
        "id": "z1qp0_RvcOjT"
      },
      "source": [
        "answer_1 = set_1 - set_2\n",
        "answer_2 = sorted(answer_1.union(set_2-set_1))"
      ],
      "execution_count": null,
      "outputs": []
    },
    {
      "cell_type": "code",
      "metadata": {
        "id": "-rogCHYZeKxE",
        "colab": {
          "base_uri": "https://localhost:8080/"
        },
        "outputId": "b570d7b4-b14a-476e-efaf-889ba302ffe8"
      },
      "source": [
        "print(list(answer_1))\n",
        "print(answer_2)"
      ],
      "execution_count": null,
      "outputs": [
        {
          "output_type": "stream",
          "text": [
            "[1]\n",
            "[1, 7, 8, 9]\n"
          ],
          "name": "stdout"
        }
      ]
    },
    {
      "cell_type": "code",
      "metadata": {
        "id": "VduxUQiXfBQT"
      },
      "source": [
        "input_str = 'nalytics'"
      ],
      "execution_count": null,
      "outputs": []
    },
    {
      "cell_type": "code",
      "metadata": {
        "id": "HH1FXgPImk7M",
        "colab": {
          "base_uri": "https://localhost:8080/"
        },
        "outputId": "d039d948-7d62-42e8-9fd7-3efd72051d4e"
      },
      "source": [
        "vowels = ('a','e','i','o','u','A','E','I','O','U')\n",
        "if input_str.startswith(vowels):\n",
        "  print(\"YES\")\n",
        "else:\n",
        "  print(\"NO\")  \n",
        " "
      ],
      "execution_count": null,
      "outputs": [
        {
          "output_type": "stream",
          "text": [
            "NO\n"
          ],
          "name": "stdout"
        }
      ]
    },
    {
      "cell_type": "code",
      "metadata": {
        "id": "wUSONUgOm8Ol",
        "colab": {
          "base_uri": "https://localhost:8080/"
        },
        "outputId": "19ac7ad8-6a27-4615-a364-1a9d82f7e27d"
      },
      "source": [
        "if (10 < 0) and (0 < -10):\n",
        "    print(\"A\")\n",
        "elif (10 > 0) or False:\n",
        "    print(\"B\")\n",
        "else:\n",
        "    print(\"C\")"
      ],
      "execution_count": null,
      "outputs": [
        {
          "output_type": "stream",
          "text": [
            "B\n"
          ],
          "name": "stdout"
        }
      ]
    },
    {
      "cell_type": "code",
      "metadata": {
        "id": "oofsDZXeo2mw",
        "colab": {
          "base_uri": "https://localhost:8080/"
        },
        "outputId": "2ebf978d-f8ae-474c-c8cf-ab5e35c37a19"
      },
      "source": [
        "if True or True:\n",
        "    if False and True or False:\n",
        "        print('A')\n",
        "    elif False and False or True and True:\n",
        "        print('B')\n",
        "    else:\n",
        "        print('C')\n",
        "else:\n",
        "    print('D')"
      ],
      "execution_count": null,
      "outputs": [
        {
          "output_type": "stream",
          "text": [
            "B\n"
          ],
          "name": "stdout"
        }
      ]
    },
    {
      "cell_type": "code",
      "metadata": {
        "id": "JHCk2X4io-T-",
        "colab": {
          "base_uri": "https://localhost:8080/"
        },
        "outputId": "1dd92270-8aac-4de2-d23b-72571d30f523"
      },
      "source": [
        "d = {0: 'Fish', 1: 'Bird', 2: 'Mammal'}\n",
        "for i in d:\n",
        "    print(i)"
      ],
      "execution_count": null,
      "outputs": [
        {
          "output_type": "stream",
          "text": [
            "0\n",
            "1\n",
            "2\n"
          ],
          "name": "stdout"
        }
      ]
    },
    {
      "cell_type": "code",
      "metadata": {
        "id": "_9R42qfApG0U",
        "colab": {
          "base_uri": "https://localhost:8080/"
        },
        "outputId": "204b6756-9744-4e01-ce48-904dd55fb0aa"
      },
      "source": [
        "d = {0, 1, 2}\n",
        "for x in d:\n",
        "    print(d.add(x))"
      ],
      "execution_count": null,
      "outputs": [
        {
          "output_type": "stream",
          "text": [
            "None\n",
            "None\n",
            "None\n"
          ],
          "name": "stdout"
        }
      ]
    },
    {
      "cell_type": "code",
      "metadata": {
        "id": "9VciZ-fApQSw",
        "colab": {
          "base_uri": "https://localhost:8080/"
        },
        "outputId": "25ec8218-5a90-4e9a-b46e-45a2513f2ea4"
      },
      "source": [
        "for i in range(1,6):\n",
        "    if (i % 3 == 0):\n",
        "        print(str(i) + \" is Divisible by 3\")\n",
        "        break\n",
        "\n",
        "    print(str(i) + \" is not divisible by 3\")\n",
        " \n",
        "\n"
      ],
      "execution_count": null,
      "outputs": [
        {
          "output_type": "stream",
          "text": [
            "1 is not divisible by 3\n",
            "2 is not divisible by 3\n",
            "3 is Divisible by 3\n"
          ],
          "name": "stdout"
        }
      ]
    },
    {
      "cell_type": "code",
      "metadata": {
        "id": "VAkaPch2pWH6",
        "colab": {
          "base_uri": "https://localhost:8080/"
        },
        "outputId": "a98414c1-ad9b-451a-af92-38624e43a6ba"
      },
      "source": [
        "for i in range(1,6):\n",
        "    if (i % 3 == 0):\n",
        "        print(str(i) + \" is Divisible by 3\")\n",
        "        continue\n",
        "\n",
        "    print(str(i) + \" is not divisible by 3\")\n",
        " \n",
        "\n"
      ],
      "execution_count": null,
      "outputs": [
        {
          "output_type": "stream",
          "text": [
            "1 is not divisible by 3\n",
            "2 is not divisible by 3\n",
            "3 is Divisible by 3\n",
            "4 is not divisible by 3\n",
            "5 is not divisible by 3\n"
          ],
          "name": "stdout"
        }
      ]
    },
    {
      "cell_type": "code",
      "metadata": {
        "id": "KUQdwit3qmK2",
        "colab": {
          "base_uri": "https://localhost:8080/"
        },
        "outputId": "9517635b-cd5e-410b-a925-959068bcb163"
      },
      "source": [
        "for i in range(1,6):\n",
        "    if (i % 3 == 0):\n",
        "        print(str(i) + \" is Divisible by 3\")\n",
        "        pass\n",
        "\n",
        "    print(str(i) + \" is not divisible by 3\")"
      ],
      "execution_count": null,
      "outputs": [
        {
          "output_type": "stream",
          "text": [
            "1 is not divisible by 3\n",
            "2 is not divisible by 3\n",
            "3 is Divisible by 3\n",
            "3 is not divisible by 3\n",
            "4 is not divisible by 3\n",
            "5 is not divisible by 3\n"
          ],
          "name": "stdout"
        }
      ]
    },
    {
      "cell_type": "markdown",
      "metadata": {
        "id": "bl29WXXku6tM"
      },
      "source": [
        "Creating a List Comprehension"
      ]
    },
    {
      "cell_type": "code",
      "metadata": {
        "id": "z8I0YJklqnqi"
      },
      "source": [
        "n = 5"
      ],
      "execution_count": null,
      "outputs": []
    },
    {
      "cell_type": "code",
      "metadata": {
        "id": "FgAhWPR7vcCZ",
        "colab": {
          "base_uri": "https://localhost:8080/"
        },
        "outputId": "e3800dc2-a3c1-4d51-bdbf-3accbe48f9bb"
      },
      "source": [
        "for i in range(1,n+1):\n",
        "  print(i**2)"
      ],
      "execution_count": null,
      "outputs": [
        {
          "output_type": "stream",
          "text": [
            "1\n",
            "4\n",
            "9\n",
            "16\n",
            "25\n"
          ],
          "name": "stdout"
        }
      ]
    },
    {
      "cell_type": "code",
      "metadata": {
        "id": "DKbWu0ApvyPH",
        "colab": {
          "base_uri": "https://localhost:8080/"
        },
        "outputId": "4b5daead-5a9e-49fd-bef8-bbc1db5a7bff"
      },
      "source": [
        "print([i**2 for i in range(1,n+1)])"
      ],
      "execution_count": null,
      "outputs": [
        {
          "output_type": "execute_result",
          "data": {
            "text/plain": [
              "[1, 4, 9, 16, 25]"
            ]
          },
          "metadata": {
            "tags": []
          },
          "execution_count": 166
        }
      ]
    },
    {
      "cell_type": "code",
      "metadata": {
        "id": "leFcqxDrwOXI"
      },
      "source": [
        "input_list=[\"wood\", \"old\", \"apple\", \"big\", \"item\", \"euphoria\"]\n",
        "vowels = ['a','e','i','o','u','A','E','I','O','U']"
      ],
      "execution_count": null,
      "outputs": []
    },
    {
      "cell_type": "code",
      "metadata": {
        "id": "WYfaaJQZwQVY"
      },
      "source": [
        "list_vowel = [input_list for input_list in input_list if input_list[0] in vowels]"
      ],
      "execution_count": null,
      "outputs": []
    },
    {
      "cell_type": "code",
      "metadata": {
        "id": "7GRPx10SxsCv",
        "colab": {
          "base_uri": "https://localhost:8080/"
        },
        "outputId": "b81a3337-3910-43d1-ec1f-d3a5af9d3ced"
      },
      "source": [
        "list_vowel"
      ],
      "execution_count": null,
      "outputs": [
        {
          "output_type": "execute_result",
          "data": {
            "text/plain": [
              "['old', 'apple', 'item', 'euphoria']"
            ]
          },
          "metadata": {
            "tags": []
          },
          "execution_count": 171
        }
      ]
    },
    {
      "cell_type": "code",
      "metadata": {
        "id": "4gj960DwyOg3"
      },
      "source": [
        "n = 5"
      ],
      "execution_count": null,
      "outputs": []
    },
    {
      "cell_type": "code",
      "metadata": {
        "id": "AiqE28BAyR1J"
      },
      "source": [
        "dictionary = dict((i,i**2) for i in range(1,n+1))"
      ],
      "execution_count": null,
      "outputs": []
    },
    {
      "cell_type": "code",
      "metadata": {
        "id": "lNpStGc9ymFg",
        "colab": {
          "base_uri": "https://localhost:8080/"
        },
        "outputId": "9f9ebd2b-2cdd-4dd5-d605-26de30dbbd8e"
      },
      "source": [
        "dictionary"
      ],
      "execution_count": null,
      "outputs": [
        {
          "output_type": "execute_result",
          "data": {
            "text/plain": [
              "{1: 1, 2: 4, 3: 9, 4: 16, 5: 25}"
            ]
          },
          "metadata": {
            "tags": []
          },
          "execution_count": 173
        }
      ]
    },
    {
      "cell_type": "code",
      "metadata": {
        "id": "MH48Z92AynoU",
        "colab": {
          "base_uri": "https://localhost:8080/"
        },
        "outputId": "1bf63d03-25f1-462e-d263-c6b5137052e6"
      },
      "source": [
        "print([i+j for i in \"abc\" for j in \"def\"])"
      ],
      "execution_count": null,
      "outputs": [
        {
          "output_type": "stream",
          "text": [
            "['ad', 'ae', 'af', 'bd', 'be', 'bf', 'cd', 'ce', 'cf']\n"
          ],
          "name": "stdout"
        }
      ]
    },
    {
      "cell_type": "code",
      "metadata": {
        "id": "OvyLAE7Oyvy9",
        "colab": {
          "base_uri": "https://localhost:8080/"
        },
        "outputId": "0ce38ca2-fbed-4630-a388-ec1a487f4c86"
      },
      "source": [
        "d = {x.upper(): x*3 for x in 'acbd'}\n",
        "print(d)"
      ],
      "execution_count": null,
      "outputs": [
        {
          "output_type": "stream",
          "text": [
            "{'A': 'aaa', 'C': 'ccc', 'B': 'bbb', 'D': 'ddd'}\n"
          ],
          "name": "stdout"
        }
      ]
    },
    {
      "cell_type": "code",
      "metadata": {
        "id": "A3H10z8VzMHr",
        "colab": {
          "base_uri": "https://localhost:8080/"
        },
        "outputId": "520a92ed-094e-431a-9843-844e4404d672"
      },
      "source": [
        "def squared(x,y):\n",
        "  return x**y\n",
        "\n",
        "\n",
        "print(squared(2,3))  "
      ],
      "execution_count": null,
      "outputs": [
        {
          "output_type": "stream",
          "text": [
            "8\n"
          ],
          "name": "stdout"
        }
      ]
    },
    {
      "cell_type": "code",
      "metadata": {
        "id": "Ax0bffYqzaY5"
      },
      "source": [
        "greater = lambda x,y :x if x>y  else y"
      ],
      "execution_count": null,
      "outputs": []
    },
    {
      "cell_type": "code",
      "metadata": {
        "id": "WZFH9Q_20tjY",
        "colab": {
          "base_uri": "https://localhost:8080/"
        },
        "outputId": "32518993-41be-4352-8f7b-97f0dc37e423"
      },
      "source": [
        "greater(2,3)"
      ],
      "execution_count": null,
      "outputs": [
        {
          "output_type": "execute_result",
          "data": {
            "text/plain": [
              "3"
            ]
          },
          "metadata": {
            "tags": []
          },
          "execution_count": 181
        }
      ]
    },
    {
      "cell_type": "code",
      "metadata": {
        "id": "J2cbRqd70yJ0",
        "colab": {
          "base_uri": "https://localhost:8080/"
        },
        "outputId": "03fe1f82-89f1-4cc2-bfd8-77698686110d"
      },
      "source": [
        "def say(message, times = 1):\n",
        "    print(message * times)\n",
        "\n",
        "say('Hello')\n",
        "say('World', 5)"
      ],
      "execution_count": null,
      "outputs": [
        {
          "output_type": "stream",
          "text": [
            "Hello\n",
            "WorldWorldWorldWorldWorld\n"
          ],
          "name": "stdout"
        }
      ]
    },
    {
      "cell_type": "code",
      "metadata": {
        "id": "LhLXMcnA1ibi",
        "colab": {
          "base_uri": "https://localhost:8080/"
        },
        "outputId": "7f647a1b-d7b6-4c24-ad73-3f3e2251e643"
      },
      "source": [
        "min = (lambda x, y: x if x < y else y)\n",
        "min(101*99, 102*98)"
      ],
      "execution_count": null,
      "outputs": [
        {
          "output_type": "execute_result",
          "data": {
            "text/plain": [
              "9996"
            ]
          },
          "metadata": {
            "tags": []
          },
          "execution_count": 185
        }
      ]
    },
    {
      "cell_type": "code",
      "metadata": {
        "id": "hHQBt92H1-Sz"
      },
      "source": [
        "cube = list(map(lambda x: x*x*x, input_list))\n",
        "print(cube)"
      ],
      "execution_count": null,
      "outputs": []
    },
    {
      "cell_type": "code",
      "metadata": {
        "id": "rmPseqmB240i"
      },
      "source": [
        "sum(map(lambda x: x[0] == 'S', input_list))"
      ],
      "execution_count": null,
      "outputs": []
    },
    {
      "cell_type": "code",
      "metadata": {
        "id": "nAkSFgKe3whu"
      },
      "source": [
        "name = list(map(lambda x, y: x[0]+x[1:]+' '+ y[0]+y[1:], first_name, last_name))"
      ],
      "execution_count": null,
      "outputs": []
    },
    {
      "cell_type": "code",
      "metadata": {
        "id": "kYf6XXP23_FH"
      },
      "source": [
        "list_answer = list(filter(lambda x:  x % 5 == 0, input_list))"
      ],
      "execution_count": null,
      "outputs": []
    },
    {
      "cell_type": "code",
      "metadata": {
        "id": "tBAnlIqY3_8N"
      },
      "source": [
        "sp = list(filter(lambda x:x.endswith(\"s\") or x.endswith(\"p\"), input_list))"
      ],
      "execution_count": null,
      "outputs": []
    },
    {
      "cell_type": "code",
      "metadata": {
        "id": "YVKVbILa4Nq2"
      },
      "source": [
        "print(reduce(lambda x,y: x+\" \"+y, input_list))\n"
      ],
      "execution_count": null,
      "outputs": []
    },
    {
      "cell_type": "code",
      "metadata": {
        "id": "gO0dMYTw5Mu6"
      },
      "source": [
        "# . Find and print the largest number in input_list using the reduce() function.\n",
        "input_list = [31, 63, 76, 89]\n",
        "answer = reduce(lambda x,y: x if x > y else y, input_list)"
      ],
      "execution_count": null,
      "outputs": []
    },
    {
      "cell_type": "code",
      "metadata": {
        "id": "9MeE_IjN58dm",
        "colab": {
          "base_uri": "https://localhost:8080/"
        },
        "outputId": "5cd062dd-e954-4240-9bfe-fc3eb3afb853"
      },
      "source": [
        "((500//7) % 5) ** 3"
      ],
      "execution_count": null,
      "outputs": [
        {
          "output_type": "execute_result",
          "data": {
            "text/plain": [
              "1"
            ]
          },
          "metadata": {
            "tags": []
          },
          "execution_count": 186
        }
      ]
    },
    {
      "cell_type": "code",
      "metadata": {
        "id": "wkiCSAEi6ICF"
      },
      "source": [
        "S = \"I love Python\""
      ],
      "execution_count": null,
      "outputs": []
    },
    {
      "cell_type": "code",
      "metadata": {
        "id": "XYJ4DW_U6Q7W",
        "colab": {
          "base_uri": "https://localhost:8080/",
          "height": 35
        },
        "outputId": "ebdd6dec-cfbd-4609-9a21-408e342520d7"
      },
      "source": [
        "S[2:6]"
      ],
      "execution_count": null,
      "outputs": [
        {
          "output_type": "execute_result",
          "data": {
            "application/vnd.google.colaboratory.intrinsic+json": {
              "type": "string"
            },
            "text/plain": [
              "'love'"
            ]
          },
          "metadata": {
            "tags": []
          },
          "execution_count": 190
        }
      ]
    },
    {
      "cell_type": "code",
      "metadata": {
        "id": "2FyR3rOm6Vgb",
        "colab": {
          "base_uri": "https://localhost:8080/",
          "height": 35
        },
        "outputId": "2a0347c0-83ef-4af3-828a-610a6b54c14c"
      },
      "source": [
        "\n",
        "S[-11:-7]"
      ],
      "execution_count": null,
      "outputs": [
        {
          "output_type": "execute_result",
          "data": {
            "application/vnd.google.colaboratory.intrinsic+json": {
              "type": "string"
            },
            "text/plain": [
              "'love'"
            ]
          },
          "metadata": {
            "tags": []
          },
          "execution_count": 191
        }
      ]
    },
    {
      "cell_type": "code",
      "metadata": {
        "id": "mIEfzqUU6epp"
      },
      "source": [
        "L = [1, 2, 3]"
      ],
      "execution_count": null,
      "outputs": []
    },
    {
      "cell_type": "code",
      "metadata": {
        "id": "VY7mlrnV6mjq",
        "colab": {
          "base_uri": "https://localhost:8080/"
        },
        "outputId": "3952f46a-0e70-4de1-c3b8-3068ad3cd11a"
      },
      "source": [
        "L * 2"
      ],
      "execution_count": null,
      "outputs": [
        {
          "output_type": "execute_result",
          "data": {
            "text/plain": [
              "[1, 2, 3, 1, 2, 3]"
            ]
          },
          "metadata": {
            "tags": []
          },
          "execution_count": 194
        }
      ]
    },
    {
      "cell_type": "code",
      "metadata": {
        "id": "Z3TFm7yB6rt2"
      },
      "source": [
        "L = [[1, 2, 3], [4, 5, 6], [7, 8, 9, 10]]"
      ],
      "execution_count": null,
      "outputs": []
    },
    {
      "cell_type": "code",
      "metadata": {
        "id": "nLHkPrX663pE",
        "colab": {
          "base_uri": "https://localhost:8080/"
        },
        "outputId": "20fa224a-644f-48e9-96da-950837938613"
      },
      "source": [
        "L[2: ]"
      ],
      "execution_count": null,
      "outputs": [
        {
          "output_type": "execute_result",
          "data": {
            "text/plain": [
              "[[7, 8, 9, 10]]"
            ]
          },
          "metadata": {
            "tags": []
          },
          "execution_count": 196
        }
      ]
    },
    {
      "cell_type": "code",
      "metadata": {
        "id": "3OzXZRwV655n"
      },
      "source": [
        "T = (3, 5, 7, 11)"
      ],
      "execution_count": null,
      "outputs": []
    },
    {
      "cell_type": "code",
      "metadata": {
        "id": "CqjvEU1V7Cd-",
        "colab": {
          "base_uri": "https://localhost:8080/",
          "height": 166
        },
        "outputId": "e402d9b5-004b-41da-dc34-06b4b0761ef8"
      },
      "source": [
        "T.append(9)"
      ],
      "execution_count": null,
      "outputs": [
        {
          "output_type": "error",
          "ename": "AttributeError",
          "evalue": "ignored",
          "traceback": [
            "\u001b[0;31m---------------------------------------------------------------------------\u001b[0m",
            "\u001b[0;31mAttributeError\u001b[0m                            Traceback (most recent call last)",
            "\u001b[0;32m<ipython-input-198-073c8dc16c52>\u001b[0m in \u001b[0;36m<module>\u001b[0;34m()\u001b[0m\n\u001b[0;32m----> 1\u001b[0;31m \u001b[0mT\u001b[0m\u001b[0;34m.\u001b[0m\u001b[0mappend\u001b[0m\u001b[0;34m(\u001b[0m\u001b[0;36m9\u001b[0m\u001b[0;34m)\u001b[0m\u001b[0;34m\u001b[0m\u001b[0;34m\u001b[0m\u001b[0m\n\u001b[0m",
            "\u001b[0;31mAttributeError\u001b[0m: 'tuple' object has no attribute 'append'"
          ]
        }
      ]
    },
    {
      "cell_type": "code",
      "metadata": {
        "id": "qrBr0IIS7ESr",
        "colab": {
          "base_uri": "https://localhost:8080/"
        },
        "outputId": "05d8a4a1-dffd-47a0-893a-fab18d4a24bb"
      },
      "source": [
        "D = {1:['Raj', 22], 2:['Simran', 21], 3:['Rahul', 40]}\n",
        "for val in D:\n",
        "     print(val)"
      ],
      "execution_count": null,
      "outputs": [
        {
          "output_type": "stream",
          "text": [
            "1\n",
            "2\n",
            "3\n"
          ],
          "name": "stdout"
        }
      ]
    },
    {
      "cell_type": "code",
      "metadata": {
        "id": "8SGa_ska7KTF",
        "colab": {
          "base_uri": "https://localhost:8080/",
          "height": 201
        },
        "outputId": "b64c0e4d-44c2-4c8b-9ec3-d26fce35e996"
      },
      "source": [
        "for sentence in paragraph:\n",
        "    for word in sentence.split():\n",
        "        single_word_list.append(word)"
      ],
      "execution_count": null,
      "outputs": [
        {
          "output_type": "error",
          "ename": "NameError",
          "evalue": "ignored",
          "traceback": [
            "\u001b[0;31m---------------------------------------------------------------------------\u001b[0m",
            "\u001b[0;31mNameError\u001b[0m                                 Traceback (most recent call last)",
            "\u001b[0;32m<ipython-input-200-53fdd3c097f6>\u001b[0m in \u001b[0;36m<module>\u001b[0;34m()\u001b[0m\n\u001b[0;32m----> 1\u001b[0;31m \u001b[0;32mfor\u001b[0m \u001b[0msentence\u001b[0m \u001b[0;32min\u001b[0m \u001b[0mparagraph\u001b[0m\u001b[0;34m:\u001b[0m\u001b[0;34m\u001b[0m\u001b[0;34m\u001b[0m\u001b[0m\n\u001b[0m\u001b[1;32m      2\u001b[0m     \u001b[0;32mfor\u001b[0m \u001b[0mword\u001b[0m \u001b[0;32min\u001b[0m \u001b[0msentence\u001b[0m\u001b[0;34m.\u001b[0m\u001b[0msplit\u001b[0m\u001b[0;34m(\u001b[0m\u001b[0;34m)\u001b[0m\u001b[0;34m:\u001b[0m\u001b[0;34m\u001b[0m\u001b[0;34m\u001b[0m\u001b[0m\n\u001b[1;32m      3\u001b[0m         \u001b[0msingle_word_list\u001b[0m\u001b[0;34m.\u001b[0m\u001b[0mappend\u001b[0m\u001b[0;34m(\u001b[0m\u001b[0mword\u001b[0m\u001b[0;34m)\u001b[0m\u001b[0;34m\u001b[0m\u001b[0;34m\u001b[0m\u001b[0m\n",
            "\u001b[0;31mNameError\u001b[0m: name 'paragraph' is not defined"
          ]
        }
      ]
    },
    {
      "cell_type": "code",
      "metadata": {
        "id": "et64g1kG7Qz3",
        "colab": {
          "base_uri": "https://localhost:8080/"
        },
        "outputId": "5a0814fb-0c20-4821-8ed5-c52d09dc9110"
      },
      "source": [
        "def my_func(*args):\n",
        "    return(sum(args))\n",
        "\n",
        "print(my_func(1,2,3,4,5))\n",
        "print(my_func(6,7,8))"
      ],
      "execution_count": null,
      "outputs": [
        {
          "output_type": "stream",
          "text": [
            "15\n",
            "21\n"
          ],
          "name": "stdout"
        }
      ]
    },
    {
      "cell_type": "code",
      "metadata": {
        "id": "IiUCHiNd7xLY"
      },
      "source": [
        "L = [1, 2, 3, 4]"
      ],
      "execution_count": null,
      "outputs": []
    },
    {
      "cell_type": "code",
      "metadata": {
        "id": "Ei7syPD_75z2",
        "colab": {
          "base_uri": "https://localhost:8080/"
        },
        "outputId": "11d5a055-dac1-4c95-88fe-eacf4c56506d"
      },
      "source": [
        "list(map(lambda x : x ** 2, L))"
      ],
      "execution_count": null,
      "outputs": [
        {
          "output_type": "execute_result",
          "data": {
            "text/plain": [
              "[1, 4, 9, 16]"
            ]
          },
          "metadata": {
            "tags": []
          },
          "execution_count": 206
        }
      ]
    },
    {
      "cell_type": "code",
      "metadata": {
        "id": "vyR5KLHp8K85",
        "colab": {
          "base_uri": "https://localhost:8080/"
        },
        "outputId": "c784fc22-7591-408a-b83d-69943e500730"
      },
      "source": [
        "#Using iloc index the dataframe to print all the rows of the columns at index 3,4,5.\n",
        "import pandas as pd\n",
        "df = pd.read_csv('https://query.data.world/s/vBDCsoHCytUSLKkLvq851k2b8JOCkF')\n",
        "df_2 =  df.iloc[:, [3,4,5]]\n",
        "print(df_2.head(20))"
      ],
      "execution_count": 10,
      "outputs": [
        {
          "output_type": "stream",
          "text": [
            "    day  FFMC    DMC\n",
            "0   fri  86.2   26.2\n",
            "1   tue  90.6   35.4\n",
            "2   sat  90.6   43.7\n",
            "3   fri  91.7   33.3\n",
            "4   sun  89.3   51.3\n",
            "5   sun  92.3   85.3\n",
            "6   mon  92.3   88.9\n",
            "7   mon  91.5  145.4\n",
            "8   tue  91.0  129.5\n",
            "9   sat  92.5   88.0\n",
            "10  sat  92.5   88.0\n",
            "11  sat  92.8   73.2\n",
            "12  fri  63.5   70.8\n",
            "13  mon  90.9  126.5\n",
            "14  wed  92.9  133.3\n",
            "15  fri  93.3  141.2\n",
            "16  sat  91.7   35.8\n",
            "17  mon  84.9   32.8\n",
            "18  wed  89.2   27.9\n",
            "19  sat  86.3   27.4\n"
          ],
          "name": "stdout"
        }
      ]
    },
    {
      "cell_type": "code",
      "metadata": {
        "id": "vORwu7j3dRTV"
      },
      "source": [
        "#Using loc function print out all the columns and rows from 2 to 20 of the 'df' dataset.\n",
        "df = pd.read_csv('https://query.data.world/s/vBDCsoHCytUSLKkLvq851k2b8JOCkF')\n",
        "df_2 = \n",
        "print(df_2)"
      ],
      "execution_count": null,
      "outputs": []
    },
    {
      "cell_type": "code",
      "metadata": {
        "colab": {
          "base_uri": "https://localhost:8080/"
        },
        "id": "M1VBNK8AiXyf",
        "outputId": "85ed78e6-68d0-438b-cacd-9d8a76a3e7cb"
      },
      "source": [
        "import pandas as pd\n",
        "df = pd.read_csv('https://query.data.world/s/vBDCsoHCytUSLKkLvq851k2b8JOCkF')\n",
        "# greater than 0, 'wind' is greater than 1 and the 'temp' is greater than 15.\n",
        "df1=df[(df['area']>0)]\n",
        "df2=df1[(df1['wind']>1)]\n",
        "df_2 = df2[(df2['temp']>15)]\n",
        "print(df_2.head(20))"
      ],
      "execution_count": 16,
      "outputs": [
        {
          "output_type": "stream",
          "text": [
            "     X  Y month  day  FFMC    DMC     DC   ISI  temp  RH  wind  rain  area\n",
            "138  9  9   jul  tue  85.8   48.3  313.4   3.9  18.0  42   2.7   0.0  0.36\n",
            "139  1  4   sep  tue  91.0  129.5  692.6   7.0  21.7  38   2.2   0.0  0.43\n",
            "140  2  5   sep  mon  90.9  126.5  686.5   7.0  21.9  39   1.8   0.0  0.47\n",
            "141  1  2   aug  wed  95.5   99.9  513.3  13.2  23.3  31   4.5   0.0  0.55\n",
            "142  8  6   aug  fri  90.1  108.0  529.8  12.5  21.2  51   8.9   0.0  0.61\n",
            "143  1  2   jul  sat  90.0   51.3  296.3   8.7  16.6  53   5.4   0.0  0.71\n",
            "144  2  5   aug  wed  95.5   99.9  513.3  13.2  23.8  32   5.4   0.0  0.77\n",
            "145  6  5   aug  thu  95.2  131.7  578.8  10.4  27.4  22   4.0   0.0  0.90\n",
            "147  8  3   sep  tue  84.4   73.4  671.9   3.2  24.2  28   3.6   0.0  0.96\n",
            "148  2  2   aug  tue  94.8  108.3  647.1  17.0  17.4  43   6.7   0.0  1.07\n",
            "149  8  6   sep  thu  93.7   80.9  685.2  17.9  23.7  25   4.5   0.0  1.12\n",
            "150  6  5   jun  fri  92.5   56.4  433.3   7.1  23.2  39   5.4   0.0  1.19\n",
            "151  9  9   jul  sun  90.1   68.6  355.2   7.2  24.8  29   2.2   0.0  1.36\n",
            "152  3  4   jul  sat  90.1   51.2  424.1   6.2  24.6  43   1.8   0.0  1.43\n",
            "153  5  4   sep  fri  94.3   85.1  692.3  15.9  20.1  47   4.9   0.0  1.46\n",
            "154  1  5   sep  sat  93.4  145.4  721.4   8.1  29.6  27   2.7   0.0  1.46\n",
            "155  7  4   aug  sun  94.8  108.3  647.1  17.0  16.4  47   1.3   0.0  1.56\n",
            "156  2  4   sep  sat  93.4  145.4  721.4   8.1  28.6  27   2.2   0.0  1.61\n",
            "157  2  2   aug  wed  92.1  111.2  654.1   9.6  18.4  45   3.6   0.0  1.63\n",
            "158  2  4   aug  wed  92.1  111.2  654.1   9.6  20.5  35   4.0   0.0  1.64\n"
          ],
          "name": "stdout"
        }
      ]
    },
    {
      "cell_type": "code",
      "metadata": {
        "colab": {
          "base_uri": "https://localhost:8080/"
        },
        "id": "L-RPwhkNilhf",
        "outputId": "1b5d95ca-3c87-4f0f-8528-2d665cc0d89d"
      },
      "source": [
        "import pandas as pd\n",
        "df_1 = pd.read_csv('https://query.data.world/s/vv3snq28bp0TJq2ggCdxGOghEQKPZo')\n",
        "df_2 = pd.read_csv('https://query.data.world/s/9wVKjNT0yiRc3YbVJaiI8a6HGl2d74')\n",
        "df_3 = df_1.merge(df_2, on='unique_id', how='inner')\n",
        "print(df_3.head(20))"
      ],
      "execution_count": 20,
      "outputs": [
        {
          "output_type": "stream",
          "text": [
            "                           name  ...       cuisine_2\n",
            "0     arnie morton's of chicago  ...      \"american\"\n",
            "1                    art's deli  ...      \"american\"\n",
            "2                 bel-air hotel  ...   \"californian\"\n",
            "3                    cafe bizou  ...        \"french\"\n",
            "4                     campanile  ...      \"american\"\n",
            "5               chinois on main  ...        \"french\"\n",
            "6                        citrus  ...   \"californian\"\n",
            "7           fenix at the argyle  ...      \"american\"\n",
            "8                       granita  ...   \"californian\"\n",
            "9                    grill  the  ...      \"american\"\n",
            "10                        katsu  ...         \"asian\"\n",
            "11                  l'orangerie  ...        \"french\"\n",
            "12  le chardonnay (los angeles)  ...        \"french\"\n",
            "13               locanda veneta  ...       \"italian\"\n",
            "14                    matsuhisa  ...         \"asian\"\n",
            "15      palm  the (los angeles)  ...      \"american\"\n",
            "16                       patina  ...   \"californian\"\n",
            "17        philippe the original  ...      \"american\"\n",
            "18                 pinot bistro  ...        \"french\"\n",
            "19            rex il ristorante  ...       \"italian\"\n",
            "\n",
            "[20 rows x 9 columns]\n"
          ],
          "name": "stdout"
        }
      ]
    },
    {
      "cell_type": "code",
      "metadata": {
        "colab": {
          "base_uri": "https://localhost:8080/"
        },
        "id": "wUkpW1rslAx6",
        "outputId": "27a23fad-80dd-4c2f-bcf4-42b9304bd358"
      },
      "source": [
        "import warnings\n",
        "warnings.filterwarnings('ignore')\n",
        "import pandas as pd\n",
        "\n",
        "df_1 = pd.read_csv('https://query.data.world/s/vv3snq28bp0TJq2ggCdxGOghEQKPZo')\n",
        "df_2 = pd.read_csv('https://query.data.world/s/9wVKjNT0yiRc3YbVJaiI8a6HGl2d74')\n",
        "df_3 = pd.concat([df_1, df_2])\n",
        "print(df_3.head())"
      ],
      "execution_count": 21,
      "outputs": [
        {
          "output_type": "stream",
          "text": [
            "                        name                     address  ... city_2 cuisine_2\n",
            "0  arnie morton's of chicago   \"435 s. la cienega blvd.\"  ...    NaN       NaN\n",
            "1                 art's deli       \"12224 ventura blvd.\"  ...    NaN       NaN\n",
            "2              bel-air hotel      \"701 stone canyon rd.\"  ...    NaN       NaN\n",
            "3                 cafe bizou       \"14016 ventura blvd.\"  ...    NaN       NaN\n",
            "4                  campanile       \"624 s. la brea ave.\"  ...    NaN       NaN\n",
            "\n",
            "[5 rows x 9 columns]\n"
          ],
          "name": "stdout"
        }
      ]
    },
    {
      "cell_type": "markdown",
      "metadata": {
        "id": "spN45VRjnBCq"
      },
      "source": [
        "Given three data frames containing the number of gold, silver, and bronze Olympic medals won by some countries, determine the total number of medals won by each country. \n",
        "Note: All the three data frames don’t have all the same countries. So, ensure you use the ‘fill_value’ argument (set it to zero), to avoid getting NaN values. Also, ensure you sort the final dataframe, according to the total medal count in descending order."
      ]
    },
    {
      "cell_type": "code",
      "metadata": {
        "colab": {
          "base_uri": "https://localhost:8080/"
        },
        "id": "pmiDPQPqmItB",
        "outputId": "47cec9c3-0c13-48d6-c2cf-fdf6a428d6c2"
      },
      "source": [
        "\n",
        "import numpy as np \n",
        "import pandas as pd\n",
        "\n",
        "# Defining the three dataframes indicating the gold, silver, and bronze medal counts\n",
        "# of different countries\n",
        "gold = pd.DataFrame({'Country': ['USA', 'France', 'Russia'],\n",
        "                         'Medals': [15, 13, 9]}\n",
        "                    )\n",
        "silver = pd.DataFrame({'Country': ['USA', 'Germany', 'Russia'],\n",
        "                        'Medals': [29, 20, 16]}\n",
        "                    )\n",
        "bronze = pd.DataFrame({'Country': ['France', 'USA', 'UK'],\n",
        "                        'Medals': [40, 28, 27]}\n",
        "                    )\n",
        "#bronze\n",
        "df_3 = pd.concat([gold,silver, bronze]).groupby('Country').sum().sort_values(by=['Medals'],ascending=False).astype(float)\n",
        "print(df_3)"
      ],
      "execution_count": 33,
      "outputs": [
        {
          "output_type": "stream",
          "text": [
            "         Medals\n",
            "Country        \n",
            "France       53\n",
            "Germany      20\n",
            "Russia       25\n",
            "UK           27\n",
            "USA          72\n"
          ],
          "name": "stdout"
        }
      ]
    },
    {
      "cell_type": "code",
      "metadata": {
        "colab": {
          "base_uri": "https://localhost:8080/"
        },
        "id": "IHBHpWLKnf5_",
        "outputId": "d800e2a7-846b-4a12-e42c-ba7d5917c9ed"
      },
      "source": [
        "import pandas as pd\n",
        "df = pd.read_csv('https://query.data.world/s/vBDCsoHCytUSLKkLvq851k2b8JOCkF')\n",
        "#Type your groupby command here\n",
        "\n",
        "df = df[[\"rain\", \"wind\", \"month\", \"day\"]]\n",
        "df_1 = df.groupby(['month','day']).mean() "
      ],
      "execution_count": 34,
      "outputs": [
        {
          "output_type": "stream",
          "text": [
            "                  X         Y       FFMC  ...      wind      rain       area\n",
            "month day                                 ...                               \n",
            "apr   fri  4.000000  4.000000  83.000000  ...  3.100000  0.000000   0.000000\n",
            "      mon  6.000000  5.000000  87.900000  ...  3.100000  0.000000   3.350000\n",
            "      sat  6.000000  4.000000  86.300000  ...  4.500000  0.000000   0.000000\n",
            "      sun  6.000000  4.000000  87.966667  ...  5.666667  0.000000  20.376667\n",
            "      thu  6.000000  5.000000  81.500000  ...  5.800000  0.000000   7.770000\n",
            "      wed  6.000000  3.000000  88.000000  ...  2.700000  0.000000   0.000000\n",
            "aug   fri  3.857143  4.142857  91.066667  ...  4.766667  0.066667   5.600476\n",
            "      mon  5.266667  4.866667  92.660000  ...  2.873333  0.000000   1.187333\n",
            "      sat  5.000000  4.448276  92.624138  ...  4.310345  0.000000  14.054138\n",
            "      sun  4.500000  4.375000  90.987500  ...  4.417500  0.025000   9.866500\n",
            "      thu  4.615385  4.192308  92.603846  ...  3.503846  0.000000  32.198846\n",
            "      tue  4.000000  3.821429  93.689286  ...  4.567857  0.300000   6.228571\n",
            "      wed  4.320000  4.320000  93.244000  ...  3.520000  0.000000  13.950800\n",
            "dec   fri  4.000000  6.000000  84.700000  ...  4.900000  0.000000   9.270000\n",
            "      mon  3.750000  4.000000  85.400000  ...  8.500000  0.000000  15.095000\n",
            "      sun  4.000000  6.000000  84.400000  ...  8.500000  0.000000   8.980000\n",
            "      thu  4.000000  6.000000  84.600000  ...  4.900000  0.000000   5.380000\n",
            "      tue  6.000000  5.000000  85.400000  ...  8.500000  0.000000  24.770000\n",
            "      wed  8.000000  6.000000  84.000000  ...  8.000000  0.000000  11.190000\n",
            "feb   fri  5.800000  4.400000  85.420000  ...  4.820000  0.000000   5.772000\n",
            "\n",
            "[20 rows x 11 columns]\n"
          ],
          "name": "stdout"
        }
      ]
    },
    {
      "cell_type": "code",
      "metadata": {
        "id": "58A--s8Mwph5",
        "outputId": "48cdbdb5-b637-4b55-f877-da10718d1082",
        "colab": {
          "base_uri": "https://localhost:8080/"
        }
      },
      "source": [
        "import pandas as pd\n",
        "df = pd.read_csv('https://query.data.world/s/vBDCsoHCytUSLKkLvq851k2b8JOCkF')\n",
        "df['XY'] = df[\"X\"] * df[\"Y\"]\n",
        "#Type your code here.\n",
        "print(df.head(20))"
      ],
      "execution_count": 35,
      "outputs": [
        {
          "output_type": "stream",
          "text": [
            "    X  Y month  day  FFMC    DMC     DC   ISI  temp  RH  wind  rain  area  XY\n",
            "0   7  5   mar  fri  86.2   26.2   94.3   5.1   8.2  51   6.7   0.0   0.0  35\n",
            "1   7  4   oct  tue  90.6   35.4  669.1   6.7  18.0  33   0.9   0.0   0.0  28\n",
            "2   7  4   oct  sat  90.6   43.7  686.9   6.7  14.6  33   1.3   0.0   0.0  28\n",
            "3   8  6   mar  fri  91.7   33.3   77.5   9.0   8.3  97   4.0   0.2   0.0  48\n",
            "4   8  6   mar  sun  89.3   51.3  102.2   9.6  11.4  99   1.8   0.0   0.0  48\n",
            "5   8  6   aug  sun  92.3   85.3  488.0  14.7  22.2  29   5.4   0.0   0.0  48\n",
            "6   8  6   aug  mon  92.3   88.9  495.6   8.5  24.1  27   3.1   0.0   0.0  48\n",
            "7   8  6   aug  mon  91.5  145.4  608.2  10.7   8.0  86   2.2   0.0   0.0  48\n",
            "8   8  6   sep  tue  91.0  129.5  692.6   7.0  13.1  63   5.4   0.0   0.0  48\n",
            "9   7  5   sep  sat  92.5   88.0  698.6   7.1  22.8  40   4.0   0.0   0.0  35\n",
            "10  7  5   sep  sat  92.5   88.0  698.6   7.1  17.8  51   7.2   0.0   0.0  35\n",
            "11  7  5   sep  sat  92.8   73.2  713.0  22.6  19.3  38   4.0   0.0   0.0  35\n",
            "12  6  5   aug  fri  63.5   70.8  665.3   0.8  17.0  72   6.7   0.0   0.0  30\n",
            "13  6  5   sep  mon  90.9  126.5  686.5   7.0  21.3  42   2.2   0.0   0.0  30\n",
            "14  6  5   sep  wed  92.9  133.3  699.6   9.2  26.4  21   4.5   0.0   0.0  30\n",
            "15  6  5   sep  fri  93.3  141.2  713.9  13.9  22.9  44   5.4   0.0   0.0  30\n",
            "16  5  5   mar  sat  91.7   35.8   80.8   7.8  15.1  27   5.4   0.0   0.0  25\n",
            "17  8  5   oct  mon  84.9   32.8  664.2   3.0  16.7  47   4.9   0.0   0.0  40\n",
            "18  6  4   mar  wed  89.2   27.9   70.8   6.3  15.9  35   4.0   0.0   0.0  24\n",
            "19  6  4   apr  sat  86.3   27.4   97.1   5.1   9.3  44   4.5   0.0   0.0  24\n"
          ],
          "name": "stdout"
        }
      ]
    },
    {
      "cell_type": "code",
      "metadata": {
        "id": "4MUYDp2Nynmi"
      },
      "source": [
        "import pandas as pd\n",
        "df = pd.read_csv('https://query.data.world/s/vBDCsoHCytUSLKkLvq851k2b8JOCkF')\n",
        "#Type your groupby command here\n",
        "\n"
      ],
      "execution_count": 36,
      "outputs": []
    },
    {
      "cell_type": "code",
      "metadata": {
        "id": "_cF7CLBLzER9"
      },
      "source": [
        "df = df[[\"rain\", \"wind\", \"month\", \"day\"]]\n"
      ],
      "execution_count": 37,
      "outputs": []
    },
    {
      "cell_type": "code",
      "metadata": {
        "id": "dFibrPjqzGi9"
      },
      "source": [
        "df_1 = df.groupby(['month','day'])"
      ],
      "execution_count": 38,
      "outputs": []
    },
    {
      "cell_type": "code",
      "metadata": {
        "id": "HoqVXoS1zLZL",
        "outputId": "c9c524f2-2c08-4b60-8994-152f27a4114d",
        "colab": {
          "base_uri": "https://localhost:8080/",
          "height": 287
        }
      },
      "source": [
        "df_1.pivot_table([\"rain\", \"wind\"])"
      ],
      "execution_count": 41,
      "outputs": [
        {
          "output_type": "error",
          "ename": "AttributeError",
          "evalue": "ignored",
          "traceback": [
            "\u001b[0;31m---------------------------------------------------------------------------\u001b[0m",
            "\u001b[0;31mAttributeError\u001b[0m                            Traceback (most recent call last)",
            "\u001b[0;32m<ipython-input-41-710e8be777df>\u001b[0m in \u001b[0;36m<module>\u001b[0;34m()\u001b[0m\n\u001b[0;32m----> 1\u001b[0;31m \u001b[0mdf_1\u001b[0m\u001b[0;34m.\u001b[0m\u001b[0mpivot_table\u001b[0m\u001b[0;34m(\u001b[0m\u001b[0;34m[\u001b[0m\u001b[0;34m\"rain\"\u001b[0m\u001b[0;34m,\u001b[0m \u001b[0;34m\"wind\"\u001b[0m\u001b[0;34m]\u001b[0m\u001b[0;34m)\u001b[0m\u001b[0;34m\u001b[0m\u001b[0;34m\u001b[0m\u001b[0m\n\u001b[0m",
            "\u001b[0;32m/usr/local/lib/python3.7/dist-packages/pandas/core/groupby/groupby.py\u001b[0m in \u001b[0;36m__getattr__\u001b[0;34m(self, attr)\u001b[0m\n\u001b[1;32m    702\u001b[0m \u001b[0;34m\u001b[0m\u001b[0m\n\u001b[1;32m    703\u001b[0m         raise AttributeError(\n\u001b[0;32m--> 704\u001b[0;31m             \u001b[0;34mf\"'{type(self).__name__}' object has no attribute '{attr}'\"\u001b[0m\u001b[0;34m\u001b[0m\u001b[0;34m\u001b[0m\u001b[0m\n\u001b[0m\u001b[1;32m    705\u001b[0m         )\n\u001b[1;32m    706\u001b[0m \u001b[0;34m\u001b[0m\u001b[0m\n",
            "\u001b[0;31mAttributeError\u001b[0m: 'DataFrameGroupBy' object has no attribute 'pivot_table'"
          ]
        }
      ]
    },
    {
      "cell_type": "code",
      "metadata": {
        "id": "XUGiW4Whz2zU",
        "outputId": "c3293795-ec2e-4eb0-de52-90ec3c0baeb1",
        "colab": {
          "base_uri": "https://localhost:8080/",
          "height": 381
        }
      },
      "source": [
        "import numpy as np\n",
        "import pandas as pd\n",
        "df = pd.read_csv('https://query.data.world/s/vBDCsoHCytUSLKkLvq851k2b8JOCkF')\n",
        "\n",
        "df = df[[\"rain\", \"wind\", \"month\", \"day\"]]\n",
        "df_1 = pd.pivot_table(df)\n",
        "\n",
        "print(df_1.head(20))"
      ],
      "execution_count": 46,
      "outputs": [
        {
          "output_type": "error",
          "ename": "ValueError",
          "evalue": "ignored",
          "traceback": [
            "\u001b[0;31m---------------------------------------------------------------------------\u001b[0m",
            "\u001b[0;31mValueError\u001b[0m                                Traceback (most recent call last)",
            "\u001b[0;32m<ipython-input-46-089a9d0aca86>\u001b[0m in \u001b[0;36m<module>\u001b[0;34m()\u001b[0m\n\u001b[1;32m      4\u001b[0m \u001b[0;34m\u001b[0m\u001b[0m\n\u001b[1;32m      5\u001b[0m \u001b[0mdf\u001b[0m \u001b[0;34m=\u001b[0m \u001b[0mdf\u001b[0m\u001b[0;34m[\u001b[0m\u001b[0;34m[\u001b[0m\u001b[0;34m\"rain\"\u001b[0m\u001b[0;34m,\u001b[0m \u001b[0;34m\"wind\"\u001b[0m\u001b[0;34m,\u001b[0m \u001b[0;34m\"month\"\u001b[0m\u001b[0;34m,\u001b[0m \u001b[0;34m\"day\"\u001b[0m\u001b[0;34m]\u001b[0m\u001b[0;34m]\u001b[0m\u001b[0;34m\u001b[0m\u001b[0;34m\u001b[0m\u001b[0m\n\u001b[0;32m----> 6\u001b[0;31m \u001b[0mdf_1\u001b[0m \u001b[0;34m=\u001b[0m \u001b[0mpd\u001b[0m\u001b[0;34m.\u001b[0m\u001b[0mpivot_table\u001b[0m\u001b[0;34m(\u001b[0m\u001b[0mdf\u001b[0m\u001b[0;34m)\u001b[0m\u001b[0;34m\u001b[0m\u001b[0;34m\u001b[0m\u001b[0m\n\u001b[0m\u001b[1;32m      7\u001b[0m \u001b[0;34m\u001b[0m\u001b[0m\n\u001b[1;32m      8\u001b[0m \u001b[0mprint\u001b[0m\u001b[0;34m(\u001b[0m\u001b[0mdf_1\u001b[0m\u001b[0;34m.\u001b[0m\u001b[0mhead\u001b[0m\u001b[0;34m(\u001b[0m\u001b[0;36m20\u001b[0m\u001b[0;34m)\u001b[0m\u001b[0;34m)\u001b[0m\u001b[0;34m\u001b[0m\u001b[0;34m\u001b[0m\u001b[0m\n",
            "\u001b[0;32m/usr/local/lib/python3.7/dist-packages/pandas/core/reshape/pivot.py\u001b[0m in \u001b[0;36mpivot_table\u001b[0;34m(data, values, index, columns, aggfunc, fill_value, margins, dropna, margins_name, observed)\u001b[0m\n\u001b[1;32m    109\u001b[0m         \u001b[0mvalues\u001b[0m \u001b[0;34m=\u001b[0m \u001b[0mlist\u001b[0m\u001b[0;34m(\u001b[0m\u001b[0mvalues\u001b[0m\u001b[0;34m)\u001b[0m\u001b[0;34m\u001b[0m\u001b[0;34m\u001b[0m\u001b[0m\n\u001b[1;32m    110\u001b[0m \u001b[0;34m\u001b[0m\u001b[0m\n\u001b[0;32m--> 111\u001b[0;31m     \u001b[0mgrouped\u001b[0m \u001b[0;34m=\u001b[0m \u001b[0mdata\u001b[0m\u001b[0;34m.\u001b[0m\u001b[0mgroupby\u001b[0m\u001b[0;34m(\u001b[0m\u001b[0mkeys\u001b[0m\u001b[0;34m,\u001b[0m \u001b[0mobserved\u001b[0m\u001b[0;34m=\u001b[0m\u001b[0mobserved\u001b[0m\u001b[0;34m)\u001b[0m\u001b[0;34m\u001b[0m\u001b[0;34m\u001b[0m\u001b[0m\n\u001b[0m\u001b[1;32m    112\u001b[0m     \u001b[0magged\u001b[0m \u001b[0;34m=\u001b[0m \u001b[0mgrouped\u001b[0m\u001b[0;34m.\u001b[0m\u001b[0magg\u001b[0m\u001b[0;34m(\u001b[0m\u001b[0maggfunc\u001b[0m\u001b[0;34m)\u001b[0m\u001b[0;34m\u001b[0m\u001b[0;34m\u001b[0m\u001b[0m\n\u001b[1;32m    113\u001b[0m     \u001b[0;32mif\u001b[0m \u001b[0mdropna\u001b[0m \u001b[0;32mand\u001b[0m \u001b[0misinstance\u001b[0m\u001b[0;34m(\u001b[0m\u001b[0magged\u001b[0m\u001b[0;34m,\u001b[0m \u001b[0mABCDataFrame\u001b[0m\u001b[0;34m)\u001b[0m \u001b[0;32mand\u001b[0m \u001b[0mlen\u001b[0m\u001b[0;34m(\u001b[0m\u001b[0magged\u001b[0m\u001b[0;34m.\u001b[0m\u001b[0mcolumns\u001b[0m\u001b[0;34m)\u001b[0m\u001b[0;34m:\u001b[0m\u001b[0;34m\u001b[0m\u001b[0;34m\u001b[0m\u001b[0m\n",
            "\u001b[0;32m/usr/local/lib/python3.7/dist-packages/pandas/core/frame.py\u001b[0m in \u001b[0;36mgroupby\u001b[0;34m(self, by, axis, level, as_index, sort, group_keys, squeeze, observed, dropna)\u001b[0m\n\u001b[1;32m   6523\u001b[0m             \u001b[0msqueeze\u001b[0m\u001b[0;34m=\u001b[0m\u001b[0msqueeze\u001b[0m\u001b[0;34m,\u001b[0m\u001b[0;34m\u001b[0m\u001b[0;34m\u001b[0m\u001b[0m\n\u001b[1;32m   6524\u001b[0m             \u001b[0mobserved\u001b[0m\u001b[0;34m=\u001b[0m\u001b[0mobserved\u001b[0m\u001b[0;34m,\u001b[0m\u001b[0;34m\u001b[0m\u001b[0;34m\u001b[0m\u001b[0m\n\u001b[0;32m-> 6525\u001b[0;31m             \u001b[0mdropna\u001b[0m\u001b[0;34m=\u001b[0m\u001b[0mdropna\u001b[0m\u001b[0;34m,\u001b[0m\u001b[0;34m\u001b[0m\u001b[0;34m\u001b[0m\u001b[0m\n\u001b[0m\u001b[1;32m   6526\u001b[0m         )\n\u001b[1;32m   6527\u001b[0m \u001b[0;34m\u001b[0m\u001b[0m\n",
            "\u001b[0;32m/usr/local/lib/python3.7/dist-packages/pandas/core/groupby/groupby.py\u001b[0m in \u001b[0;36m__init__\u001b[0;34m(self, obj, keys, axis, level, grouper, exclusions, selection, as_index, sort, group_keys, squeeze, observed, mutated, dropna)\u001b[0m\n\u001b[1;32m    531\u001b[0m                 \u001b[0mobserved\u001b[0m\u001b[0;34m=\u001b[0m\u001b[0mobserved\u001b[0m\u001b[0;34m,\u001b[0m\u001b[0;34m\u001b[0m\u001b[0;34m\u001b[0m\u001b[0m\n\u001b[1;32m    532\u001b[0m                 \u001b[0mmutated\u001b[0m\u001b[0;34m=\u001b[0m\u001b[0mself\u001b[0m\u001b[0;34m.\u001b[0m\u001b[0mmutated\u001b[0m\u001b[0;34m,\u001b[0m\u001b[0;34m\u001b[0m\u001b[0;34m\u001b[0m\u001b[0m\n\u001b[0;32m--> 533\u001b[0;31m                 \u001b[0mdropna\u001b[0m\u001b[0;34m=\u001b[0m\u001b[0mself\u001b[0m\u001b[0;34m.\u001b[0m\u001b[0mdropna\u001b[0m\u001b[0;34m,\u001b[0m\u001b[0;34m\u001b[0m\u001b[0;34m\u001b[0m\u001b[0m\n\u001b[0m\u001b[1;32m    534\u001b[0m             )\n\u001b[1;32m    535\u001b[0m \u001b[0;34m\u001b[0m\u001b[0m\n",
            "\u001b[0;32m/usr/local/lib/python3.7/dist-packages/pandas/core/groupby/grouper.py\u001b[0m in \u001b[0;36mget_grouper\u001b[0;34m(obj, key, axis, level, sort, observed, mutated, validate, dropna)\u001b[0m\n\u001b[1;32m    819\u001b[0m \u001b[0;34m\u001b[0m\u001b[0m\n\u001b[1;32m    820\u001b[0m     \u001b[0;32mif\u001b[0m \u001b[0mlen\u001b[0m\u001b[0;34m(\u001b[0m\u001b[0mgroupings\u001b[0m\u001b[0;34m)\u001b[0m \u001b[0;34m==\u001b[0m \u001b[0;36m0\u001b[0m \u001b[0;32mand\u001b[0m \u001b[0mlen\u001b[0m\u001b[0;34m(\u001b[0m\u001b[0mobj\u001b[0m\u001b[0;34m)\u001b[0m\u001b[0;34m:\u001b[0m\u001b[0;34m\u001b[0m\u001b[0;34m\u001b[0m\u001b[0m\n\u001b[0;32m--> 821\u001b[0;31m         \u001b[0;32mraise\u001b[0m \u001b[0mValueError\u001b[0m\u001b[0;34m(\u001b[0m\u001b[0;34m\"No group keys passed!\"\u001b[0m\u001b[0;34m)\u001b[0m\u001b[0;34m\u001b[0m\u001b[0;34m\u001b[0m\u001b[0m\n\u001b[0m\u001b[1;32m    822\u001b[0m     \u001b[0;32melif\u001b[0m \u001b[0mlen\u001b[0m\u001b[0;34m(\u001b[0m\u001b[0mgroupings\u001b[0m\u001b[0;34m)\u001b[0m \u001b[0;34m==\u001b[0m \u001b[0;36m0\u001b[0m\u001b[0;34m:\u001b[0m\u001b[0;34m\u001b[0m\u001b[0;34m\u001b[0m\u001b[0m\n\u001b[1;32m    823\u001b[0m         \u001b[0mgroupings\u001b[0m\u001b[0;34m.\u001b[0m\u001b[0mappend\u001b[0m\u001b[0;34m(\u001b[0m\u001b[0mGrouping\u001b[0m\u001b[0;34m(\u001b[0m\u001b[0mIndex\u001b[0m\u001b[0;34m(\u001b[0m\u001b[0;34m[\u001b[0m\u001b[0;34m]\u001b[0m\u001b[0;34m,\u001b[0m \u001b[0mdtype\u001b[0m\u001b[0;34m=\u001b[0m\u001b[0;34m\"int\"\u001b[0m\u001b[0;34m)\u001b[0m\u001b[0;34m,\u001b[0m \u001b[0mnp\u001b[0m\u001b[0;34m.\u001b[0m\u001b[0marray\u001b[0m\u001b[0;34m(\u001b[0m\u001b[0;34m[\u001b[0m\u001b[0;34m]\u001b[0m\u001b[0;34m,\u001b[0m \u001b[0mdtype\u001b[0m\u001b[0;34m=\u001b[0m\u001b[0mnp\u001b[0m\u001b[0;34m.\u001b[0m\u001b[0mintp\u001b[0m\u001b[0;34m)\u001b[0m\u001b[0;34m)\u001b[0m\u001b[0;34m)\u001b[0m\u001b[0;34m\u001b[0m\u001b[0;34m\u001b[0m\u001b[0m\n",
            "\u001b[0;31mValueError\u001b[0m: No group keys passed!"
          ]
        }
      ]
    },
    {
      "cell_type": "code",
      "metadata": {
        "id": "PcRHSJAt0rXn",
        "outputId": "d8934926-cd65-4fcb-a957-cce0ff781786",
        "colab": {
          "base_uri": "https://localhost:8080/",
          "height": 131
        }
      },
      "source": [
        "import numpy as np\n",
        "import pandas as pd\n",
        "df = pd.read_csv('https://query.data.world/s/vBDCsoHCytUSLKkLvq851k2b8JOCkF')\n",
        "\n",
        "df = df[[\"rain\", \"wind\", \"month\", \"day\"]]\n",
        "df_1 = pd.pivot_table(df,values=[\"rain\", \"wind\"], index=[\"month\", \"day\"], aggfunc={'rain': np.mean,'wind': np.mean})\n",
        "\n",
        "print(df_1.head(20))"
      ],
      "execution_count": 47,
      "outputs": [
        {
          "output_type": "error",
          "ename": "SyntaxError",
          "evalue": "ignored",
          "traceback": [
            "\u001b[0;36m  File \u001b[0;32m\"<ipython-input-47-994f95e290f4>\"\u001b[0;36m, line \u001b[0;32m1\u001b[0m\n\u001b[0;31m    values=[\"rain\", \"wind\"], index=[\"month\", \"day], aggfunc={'rain': np.mean,'wind': np.mean})\u001b[0m\n\u001b[0m                                                                                              ^\u001b[0m\n\u001b[0;31mSyntaxError\u001b[0m\u001b[0;31m:\u001b[0m EOL while scanning string literal\n"
          ]
        }
      ]
    },
    {
      "cell_type": "code",
      "metadata": {
        "id": "yAmrwZ0_1z3d"
      },
      "source": [
        ""
      ],
      "execution_count": null,
      "outputs": []
    }
  ]
}