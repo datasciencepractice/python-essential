{
  "nbformat": 4,
  "nbformat_minor": 0,
  "metadata": {
    "kernelspec": {
      "display_name": "Python 3",
      "language": "python",
      "name": "python3"
    },
    "language_info": {
      "codemirror_mode": {
        "name": "ipython",
        "version": 3
      },
      "file_extension": ".py",
      "mimetype": "text/x-python",
      "name": "python",
      "nbconvert_exporter": "python",
      "pygments_lexer": "ipython3",
      "version": "3.7.4"
    },
    "colab": {
      "name": "Basic-Python.ipynb",
      "provenance": []
    }
  },
  "cells": [
    {
      "cell_type": "markdown",
      "metadata": {
        "id": "poVpZGGlF8mA"
      },
      "source": [
        "String Operation"
      ]
    },
    {
      "cell_type": "code",
      "metadata": {
        "id": "ySYaFE6jF8mJ"
      },
      "source": [
        "some_sentance = \"There is a space after end   \""
      ],
      "execution_count": null,
      "outputs": []
    },
    {
      "cell_type": "code",
      "metadata": {
        "id": "JEkaoa9vF8mO",
        "outputId": "a4ad8a7c-4183-4377-9b75-3f981faa8e03"
      },
      "source": [
        "print(some_sentance.rstrip())"
      ],
      "execution_count": null,
      "outputs": [
        {
          "output_type": "stream",
          "text": [
            "There is a space after end\n"
          ],
          "name": "stdout"
        }
      ]
    },
    {
      "cell_type": "code",
      "metadata": {
        "id": "VFZbjTgOF8mP"
      },
      "source": [
        "some_sentance_left = \"   There is a space before start\""
      ],
      "execution_count": null,
      "outputs": []
    },
    {
      "cell_type": "code",
      "metadata": {
        "id": "p2YP2GN1F8mQ",
        "outputId": "ddc96ff0-f81d-4033-d7c0-03acda88aefa"
      },
      "source": [
        "print(some_sentance_left.lstrip())"
      ],
      "execution_count": null,
      "outputs": [
        {
          "output_type": "stream",
          "text": [
            "There is a space after end\n"
          ],
          "name": "stdout"
        }
      ]
    },
    {
      "cell_type": "code",
      "metadata": {
        "id": "I71gTEVlF8mQ"
      },
      "source": [
        "some_sentance_both = \"   trim space    \""
      ],
      "execution_count": null,
      "outputs": []
    },
    {
      "cell_type": "code",
      "metadata": {
        "id": "OEwhpC4rF8mR",
        "outputId": "a2b48234-70c2-4ac2-d9de-1e1c391b7adc"
      },
      "source": [
        "print(some_sentance_both.strip())"
      ],
      "execution_count": null,
      "outputs": [
        {
          "output_type": "stream",
          "text": [
            "trim space\n"
          ],
          "name": "stdout"
        }
      ]
    },
    {
      "cell_type": "code",
      "metadata": {
        "id": "DVQ0dEHgF8mR"
      },
      "source": [
        "increment = \"100%\""
      ],
      "execution_count": null,
      "outputs": []
    },
    {
      "cell_type": "code",
      "metadata": {
        "id": "MpUmFctUF8mR",
        "outputId": "6fe65b49-0c1e-4f2f-93fc-b5a3f69b0aa3"
      },
      "source": [
        "print(increment.rstrip(\"%\"))"
      ],
      "execution_count": null,
      "outputs": [
        {
          "output_type": "stream",
          "text": [
            "100\n"
          ],
          "name": "stdout"
        }
      ]
    },
    {
      "cell_type": "code",
      "metadata": {
        "id": "93uCSA71F8mS"
      },
      "source": [
        "number_with_char = \"*1234#\""
      ],
      "execution_count": null,
      "outputs": []
    },
    {
      "cell_type": "code",
      "metadata": {
        "id": "Dt8TqWdAF8mS",
        "outputId": "e2ae2d95-a6b8-4712-df71-e8b708993903"
      },
      "source": [
        "print(number_with_char.lstrip(\"*\").rstrip(\"#\"))"
      ],
      "execution_count": null,
      "outputs": [
        {
          "output_type": "stream",
          "text": [
            "1234\n"
          ],
          "name": "stdout"
        }
      ]
    },
    {
      "cell_type": "markdown",
      "metadata": {
        "id": "jIihZ9sFF8mS"
      },
      "source": [
        "index and slice strings"
      ]
    },
    {
      "cell_type": "code",
      "metadata": {
        "id": "PSryG4SVF8mT",
        "outputId": "d9d58dc3-cf38-448b-bc7e-269e997f96f1"
      },
      "source": [
        "value = \"2 person\"\n",
        "no_of_man = value[0]\n",
        "print(no_of_man)"
      ],
      "execution_count": null,
      "outputs": [
        {
          "output_type": "stream",
          "text": [
            "2\n"
          ],
          "name": "stdout"
        }
      ]
    },
    {
      "cell_type": "code",
      "metadata": {
        "id": "xjcu4XkZF8mT",
        "outputId": "403c3e31-1b31-4051-825d-abd87cb29d70"
      },
      "source": [
        "print(value[2:])"
      ],
      "execution_count": null,
      "outputs": [
        {
          "output_type": "stream",
          "text": [
            "person\n"
          ],
          "name": "stdout"
        }
      ]
    },
    {
      "cell_type": "code",
      "metadata": {
        "id": "sROAOb1RF8mU",
        "outputId": "298be91c-0872-412a-931f-3df693b6a06c"
      },
      "source": [
        "print(value[2:5])"
      ],
      "execution_count": null,
      "outputs": [
        {
          "output_type": "stream",
          "text": [
            "per\n"
          ],
          "name": "stdout"
        }
      ]
    },
    {
      "cell_type": "code",
      "metadata": {
        "id": "XWKWvBKpF8mU",
        "outputId": "a038807c-c0e6-4aca-df0d-4ba4fcccf7c7"
      },
      "source": [
        "batch = \"5 oranges 3 monkeys n\"\n",
        "fruit = batch [:9]\n",
        "print(fruit)"
      ],
      "execution_count": null,
      "outputs": [
        {
          "output_type": "stream",
          "text": [
            "5 oranges\n"
          ],
          "name": "stdout"
        }
      ]
    },
    {
      "cell_type": "code",
      "metadata": {
        "id": "9OvKuS7tF8mV",
        "outputId": "95e79c6b-e036-4dbc-9cc7-9c099e246042"
      },
      "source": [
        "nums = \"123456\"\n",
        "even_nums = nums[1::2]\n",
        "print (even_nums)"
      ],
      "execution_count": null,
      "outputs": [
        {
          "output_type": "stream",
          "text": [
            "246\n"
          ],
          "name": "stdout"
        }
      ]
    },
    {
      "cell_type": "code",
      "metadata": {
        "id": "uuyqHfaoF8mV",
        "outputId": "02ae155c-f5fb-44cf-823b-c65082420ec8"
      },
      "source": [
        "odd_nums = nums[0::2]\n",
        "print(odd_nums)"
      ],
      "execution_count": null,
      "outputs": [
        {
          "output_type": "stream",
          "text": [
            "135\n"
          ],
          "name": "stdout"
        }
      ]
    },
    {
      "cell_type": "code",
      "metadata": {
        "id": "3wMnyXi7F8mV",
        "outputId": "21b1d01c-7fc3-47c8-94b0-b894ddb9dac4"
      },
      "source": [
        "A = \"Data\"\n",
        "B = \"Analysis\"\n",
        "C = \"Panda\"\n",
        "print(\"{0} {1} using {2}\".format(A,B,C))"
      ],
      "execution_count": null,
      "outputs": [
        {
          "output_type": "stream",
          "text": [
            "Data Analysis using Panda\n"
          ],
          "name": "stdout"
        }
      ]
    },
    {
      "cell_type": "markdown",
      "metadata": {
        "id": "R_fLYd-2F8mW"
      },
      "source": [
        "# Assignment\n",
        "input_str = \"Kumar_Ravi_003\"\n",
        "second_name= 'Kumar', first_name= 'Ravi', customer_code = '003'"
      ]
    },
    {
      "cell_type": "code",
      "metadata": {
        "id": "ariDZsv8F8mW",
        "outputId": "c9668efc-5ca7-4d19-d8a8-ddd7567e3e6a"
      },
      "source": [
        "input_str = \"Kumar_Ravi_003\" \n",
        "second_name=input_str[:5]\n",
        "print(second_name)"
      ],
      "execution_count": null,
      "outputs": [
        {
          "output_type": "stream",
          "text": [
            "Kumar\n"
          ],
          "name": "stdout"
        }
      ]
    },
    {
      "cell_type": "code",
      "metadata": {
        "id": "nnr0GdD6F8mW",
        "outputId": "c2a9b481-9eaf-4954-94af-497f20e7e96b"
      },
      "source": [
        "first_name=input_str[6:10]\n",
        "print(first_name)"
      ],
      "execution_count": null,
      "outputs": [
        {
          "output_type": "stream",
          "text": [
            "Ravi\n"
          ],
          "name": "stdout"
        }
      ]
    },
    {
      "cell_type": "code",
      "metadata": {
        "id": "Uig1OJu5F8mX",
        "outputId": "0f0b1842-a500-4356-fb35-28ef0161cbe6"
      },
      "source": [
        "customer_code = input_str[11:]\n",
        "print(customer_code)"
      ],
      "execution_count": null,
      "outputs": [
        {
          "output_type": "stream",
          "text": [
            "003\n"
          ],
          "name": "stdout"
        }
      ]
    },
    {
      "cell_type": "code",
      "metadata": {
        "id": "R5CTVxZQF8mX",
        "outputId": "90353409-75a4-4c6e-ca2e-e21814d0ff2f"
      },
      "source": [
        "py=\"I love Python programming\"\n",
        "print(py[7:13])"
      ],
      "execution_count": null,
      "outputs": [
        {
          "output_type": "stream",
          "text": [
            "Python\n"
          ],
          "name": "stdout"
        }
      ]
    },
    {
      "cell_type": "code",
      "metadata": {
        "id": "fW3eGhrrF8mX",
        "outputId": "823b4d2e-b6f5-43f8-e95c-954878a3e41e"
      },
      "source": [
        "print(len('Python'))"
      ],
      "execution_count": null,
      "outputs": [
        {
          "output_type": "stream",
          "text": [
            "6\n"
          ],
          "name": "stdout"
        }
      ]
    },
    {
      "cell_type": "code",
      "metadata": {
        "id": "BU7C4XGrF8mY"
      },
      "source": [
        "input_list=['SAS', 'R', 'PYTHON', 'SPSS']"
      ],
      "execution_count": 2,
      "outputs": []
    },
    {
      "cell_type": "code",
      "metadata": {
        "id": "oUkyWlNYG4E3"
      },
      "source": [
        "input_list.remove('SPSS')"
      ],
      "execution_count": 3,
      "outputs": []
    },
    {
      "cell_type": "code",
      "metadata": {
        "id": "mLxgzxNsHr3y"
      },
      "source": [
        "input_list.append('SPARK')"
      ],
      "execution_count": 4,
      "outputs": []
    },
    {
      "cell_type": "code",
      "metadata": {
        "id": "iVmVQJYdHxoU",
        "outputId": "02a1c42f-236d-4a64-8fb1-e56beee6a7cb",
        "colab": {
          "base_uri": "https://localhost:8080/"
        }
      },
      "source": [
        "input_list"
      ],
      "execution_count": 5,
      "outputs": [
        {
          "output_type": "execute_result",
          "data": {
            "text/plain": [
              "['SAS', 'R', 'PYTHON', 'SPARK']"
            ]
          },
          "metadata": {
            "tags": []
          },
          "execution_count": 5
        }
      ]
    },
    {
      "cell_type": "code",
      "metadata": {
        "id": "YdbE26NFHy5I"
      },
      "source": [
        "input_str = 'I love Data Science & Python'"
      ],
      "execution_count": 6,
      "outputs": []
    },
    {
      "cell_type": "code",
      "metadata": {
        "id": "fCyG7iZcINlp",
        "outputId": "b251365f-2bcf-4c66-f6de-15ab0106dd37",
        "colab": {
          "base_uri": "https://localhost:8080/"
        }
      },
      "source": [
        "input_str.split('&')"
      ],
      "execution_count": 7,
      "outputs": [
        {
          "output_type": "execute_result",
          "data": {
            "text/plain": [
              "['I love Data Science ', ' Python']"
            ]
          },
          "metadata": {
            "tags": []
          },
          "execution_count": 7
        }
      ]
    },
    {
      "cell_type": "code",
      "metadata": {
        "id": "iIK9YyMfI-RC"
      },
      "source": [
        "input_str1 = \"Pythons syntax is easy to learn,Pythons syntax is very clear\""
      ],
      "execution_count": 26,
      "outputs": []
    },
    {
      "cell_type": "code",
      "metadata": {
        "id": "p2KK-uTCL81r"
      },
      "source": [
        "input_str = input_str1.split(',')"
      ],
      "execution_count": 32,
      "outputs": []
    },
    {
      "cell_type": "code",
      "metadata": {
        "id": "5bFd0oTMJTeR",
        "outputId": "14c2ad81-60e2-4d3b-9129-c66f57df9ff6",
        "colab": {
          "base_uri": "https://localhost:8080/",
          "height": 35
        }
      },
      "source": [
        "#input_str.replace(',',' & ')\n",
        "\" & \".join(input_str)"
      ],
      "execution_count": 33,
      "outputs": [
        {
          "output_type": "execute_result",
          "data": {
            "application/vnd.google.colaboratory.intrinsic+json": {
              "type": "string"
            },
            "text/plain": [
              "'Pythons syntax is easy to learn & Pythons syntax is very clear'"
            ]
          },
          "metadata": {
            "tags": []
          },
          "execution_count": 33
        }
      ]
    },
    {
      "cell_type": "code",
      "metadata": {
        "id": "KRhx7m-RJaGk"
      },
      "source": [
        "input_list =  [['SAS','R'],['Tableau','SQL'],['Python','Java']]"
      ],
      "execution_count": 34,
      "outputs": []
    },
    {
      "cell_type": "code",
      "metadata": {
        "id": "8ifH85ZnRDX_",
        "outputId": "689afb58-f691-48ab-907c-aefcb2cf389f",
        "colab": {
          "base_uri": "https://localhost:8080/",
          "height": 35
        }
      },
      "source": [
        "input_list[2][0]"
      ],
      "execution_count": 43,
      "outputs": [
        {
          "output_type": "execute_result",
          "data": {
            "application/vnd.google.colaboratory.intrinsic+json": {
              "type": "string"
            },
            "text/plain": [
              "'Python'"
            ]
          },
          "metadata": {
            "tags": []
          },
          "execution_count": 43
        }
      ]
    },
    {
      "cell_type": "code",
      "metadata": {
        "id": "8mZ__Y6_RM7H"
      },
      "source": [
        "names=[1,2,3,4,5]"
      ],
      "execution_count": 44,
      "outputs": []
    },
    {
      "cell_type": "code",
      "metadata": {
        "id": "Mv8g2tTtR-4l",
        "outputId": "bfa8641c-6909-497a-e870-397453a37ed4",
        "colab": {
          "base_uri": "https://localhost:8080/"
        }
      },
      "source": [
        "names[:3]"
      ],
      "execution_count": 45,
      "outputs": [
        {
          "output_type": "execute_result",
          "data": {
            "text/plain": [
              "[1, 2, 3]"
            ]
          },
          "metadata": {
            "tags": []
          },
          "execution_count": 45
        }
      ]
    },
    {
      "cell_type": "code",
      "metadata": {
        "id": "G72QWDJYSDoK",
        "outputId": "941c8a70-9c3c-40ab-ffd2-5b7f82f82b61",
        "colab": {
          "base_uri": "https://localhost:8080/"
        }
      },
      "source": [
        "names[0:3]"
      ],
      "execution_count": 48,
      "outputs": [
        {
          "output_type": "execute_result",
          "data": {
            "text/plain": [
              "[1, 2, 3]"
            ]
          },
          "metadata": {
            "tags": []
          },
          "execution_count": 48
        }
      ]
    },
    {
      "cell_type": "code",
      "metadata": {
        "id": "pLedetA0SJ87"
      },
      "source": [
        "input_tuple = ('Monty Python', 'British', 1969)"
      ],
      "execution_count": 77,
      "outputs": []
    },
    {
      "cell_type": "code",
      "metadata": {
        "id": "8X4JeLBnTWDl"
      },
      "source": [
        "list1 = list(input_tuple)\n",
        "list1.append(\"Python\")\n",
        "tuple_2 = tuple(list1)"
      ],
      "execution_count": 78,
      "outputs": []
    },
    {
      "cell_type": "code",
      "metadata": {
        "id": "vV7gpDJ1TiN_",
        "outputId": "eac69a41-f2fe-46e7-9008-939606422656",
        "colab": {
          "base_uri": "https://localhost:8080/"
        }
      },
      "source": [
        "tuple_2"
      ],
      "execution_count": 79,
      "outputs": [
        {
          "output_type": "execute_result",
          "data": {
            "text/plain": [
              "('Monty Python', 'British', 1969, 'Python')"
            ]
          },
          "metadata": {
            "tags": []
          },
          "execution_count": 79
        }
      ]
    },
    {
      "cell_type": "code",
      "metadata": {
        "id": "CK4QZgmAUoPN"
      },
      "source": [
        "t = (1, 2, 4, 3)"
      ],
      "execution_count": 80,
      "outputs": []
    },
    {
      "cell_type": "code",
      "metadata": {
        "id": "MSUojlsZXCbY",
        "outputId": "f0797367-641f-4ebf-e983-816c1bd8dd91",
        "colab": {
          "base_uri": "https://localhost:8080/",
          "height": 166
        }
      },
      "source": [
        "t[3] = 5"
      ],
      "execution_count": 81,
      "outputs": [
        {
          "output_type": "error",
          "ename": "TypeError",
          "evalue": "ignored",
          "traceback": [
            "\u001b[0;31m---------------------------------------------------------------------------\u001b[0m",
            "\u001b[0;31mTypeError\u001b[0m                                 Traceback (most recent call last)",
            "\u001b[0;32m<ipython-input-81-bd39e8458e74>\u001b[0m in \u001b[0;36m<module>\u001b[0;34m()\u001b[0m\n\u001b[0;32m----> 1\u001b[0;31m \u001b[0mt\u001b[0m\u001b[0;34m[\u001b[0m\u001b[0;36m3\u001b[0m\u001b[0;34m]\u001b[0m \u001b[0;34m=\u001b[0m \u001b[0;36m5\u001b[0m\u001b[0;34m\u001b[0m\u001b[0;34m\u001b[0m\u001b[0m\n\u001b[0m",
            "\u001b[0;31mTypeError\u001b[0m: 'tuple' object does not support item assignment"
          ]
        }
      ]
    },
    {
      "cell_type": "code",
      "metadata": {
        "id": "Ty-e3iLzXKbg"
      },
      "source": [
        "input_dict={'Name': 'Monty', 'Profession': 'Singer' }"
      ],
      "execution_count": 82,
      "outputs": []
    },
    {
      "cell_type": "code",
      "metadata": {
        "id": "FQDMfeSgX38g",
        "outputId": "ea7b60f1-7eec-4818-cf7e-c2ee2fbf773f",
        "colab": {
          "base_uri": "https://localhost:8080/",
          "height": 35
        }
      },
      "source": [
        "input_dict.get(\"Label\", \"NA\")"
      ],
      "execution_count": 85,
      "outputs": [
        {
          "output_type": "execute_result",
          "data": {
            "application/vnd.google.colaboratory.intrinsic+json": {
              "type": "string"
            },
            "text/plain": [
              "'NA'"
            ]
          },
          "metadata": {
            "tags": []
          },
          "execution_count": 85
        }
      ]
    },
    {
      "cell_type": "code",
      "metadata": {
        "id": "W4MQ2XLVX_8e"
      },
      "source": [
        "input_dict= {'Jack Dorsey': 'Twitter', 'Tim Cook': 'Apple','Jeff Bezos': 'Amazon','Mukesh Ambani': 'RJIO'}"
      ],
      "execution_count": 86,
      "outputs": []
    },
    {
      "cell_type": "code",
      "metadata": {
        "id": "-shGcdSuYusk",
        "outputId": "6b00ccbb-547c-41e1-c615-4ed255603a43",
        "colab": {
          "base_uri": "https://localhost:8080/",
          "height": 35
        }
      },
      "source": [
        "input_dict.get(\"Tim Cook\", \"NA\")"
      ],
      "execution_count": 88,
      "outputs": [
        {
          "output_type": "execute_result",
          "data": {
            "application/vnd.google.colaboratory.intrinsic+json": {
              "type": "string"
            },
            "text/plain": [
              "'Apple'"
            ]
          },
          "metadata": {
            "tags": []
          },
          "execution_count": 88
        }
      ]
    },
    {
      "cell_type": "code",
      "metadata": {
        "id": "PzfV1pZoY8ff"
      },
      "source": [
        "input_dict = {'Jack Dorsey' : 'Twitter' , 'Tim Cook' : 'Apple','Jeff Bezos' : 'Amazon' ,'Mukesh Ambani' : 'RJIO'}"
      ],
      "execution_count": 89,
      "outputs": []
    },
    {
      "cell_type": "code",
      "metadata": {
        "id": "oAg91jv8ZROk",
        "outputId": "f9b6f28f-992c-44d8-9566-839a80336c61",
        "colab": {
          "base_uri": "https://localhost:8080/"
        }
      },
      "source": [
        "sorted(list(input_dict.values()))"
      ],
      "execution_count": 96,
      "outputs": [
        {
          "output_type": "execute_result",
          "data": {
            "text/plain": [
              "['Amazon', 'Apple', 'RJIO', 'Twitter']"
            ]
          },
          "metadata": {
            "tags": []
          },
          "execution_count": 96
        }
      ]
    },
    {
      "cell_type": "code",
      "metadata": {
        "id": "Xlzx4TY3ZXV7"
      },
      "source": [
        "d = dict(a=1, b=2)"
      ],
      "execution_count": 97,
      "outputs": []
    },
    {
      "cell_type": "code",
      "metadata": {
        "id": "hhvYuNelaB9w",
        "outputId": "0fd63544-7577-4292-92c1-e3bf92ca40b6",
        "colab": {
          "base_uri": "https://localhost:8080/"
        }
      },
      "source": [
        "type(d)"
      ],
      "execution_count": 99,
      "outputs": [
        {
          "output_type": "execute_result",
          "data": {
            "text/plain": [
              "dict"
            ]
          },
          "metadata": {
            "tags": []
          },
          "execution_count": 99
        }
      ]
    },
    {
      "cell_type": "code",
      "metadata": {
        "id": "tf4eZ5mOaFDC"
      },
      "source": [
        "d = {'a':1, 'b':2}"
      ],
      "execution_count": 101,
      "outputs": []
    },
    {
      "cell_type": "code",
      "metadata": {
        "id": "y82wsD9-aNDZ"
      },
      "source": [
        "dict_1 = {\"Python\":40, \"R\":45}"
      ],
      "execution_count": 107,
      "outputs": []
    },
    {
      "cell_type": "code",
      "metadata": {
        "id": "GucVkURtaaOe"
      },
      "source": [
        "del dict_1[\"R\"]"
      ],
      "execution_count": 110,
      "outputs": []
    },
    {
      "cell_type": "code",
      "metadata": {
        "id": "YWpZPf9Zak0W",
        "outputId": "b4cfeeaf-9ee2-4145-8f2f-de2bfe55e4ce",
        "colab": {
          "base_uri": "https://localhost:8080/"
        }
      },
      "source": [
        "dict_1"
      ],
      "execution_count": 111,
      "outputs": [
        {
          "output_type": "execute_result",
          "data": {
            "text/plain": [
              "{'Python': 40}"
            ]
          },
          "metadata": {
            "tags": []
          },
          "execution_count": 111
        }
      ]
    },
    {
      "cell_type": "code",
      "metadata": {
        "id": "bFbAT9YmauIy",
        "outputId": "ce92d362-1c08-41d8-d901-bdb1cebc1df8",
        "colab": {
          "base_uri": "https://localhost:8080/"
        }
      },
      "source": [
        "d = {'Python':40, 'R':45}\n",
        "print(list(d.keys()))"
      ],
      "execution_count": 112,
      "outputs": [
        {
          "output_type": "stream",
          "text": [
            "['Python', 'R']\n"
          ],
          "name": "stdout"
        }
      ]
    },
    {
      "cell_type": "code",
      "metadata": {
        "id": "KJJcB2mIbdDc"
      },
      "source": [
        "list_1 = [1,2,3,4,5,6]\n",
        "list_2 =[2,3,4,5,6,7,8,9]"
      ],
      "execution_count": 113,
      "outputs": []
    },
    {
      "cell_type": "code",
      "metadata": {
        "id": "AcYBZJUhcD7-"
      },
      "source": [
        "set_1 = set((list_1))\n",
        "set_2 = set((list_2))"
      ],
      "execution_count": 133,
      "outputs": []
    },
    {
      "cell_type": "code",
      "metadata": {
        "id": "z1qp0_RvcOjT"
      },
      "source": [
        "answer_1 = set_1 - set_2\n",
        "answer_2 = sorted(answer_1.union(set_2-set_1))"
      ],
      "execution_count": 140,
      "outputs": []
    },
    {
      "cell_type": "code",
      "metadata": {
        "id": "-rogCHYZeKxE",
        "outputId": "b570d7b4-b14a-476e-efaf-889ba302ffe8",
        "colab": {
          "base_uri": "https://localhost:8080/"
        }
      },
      "source": [
        "print(list(answer_1))\n",
        "print(answer_2)"
      ],
      "execution_count": 142,
      "outputs": [
        {
          "output_type": "stream",
          "text": [
            "[1]\n",
            "[1, 7, 8, 9]\n"
          ],
          "name": "stdout"
        }
      ]
    },
    {
      "cell_type": "code",
      "metadata": {
        "id": "VduxUQiXfBQT"
      },
      "source": [
        "input_str = 'nalytics'"
      ],
      "execution_count": 150,
      "outputs": []
    },
    {
      "cell_type": "code",
      "metadata": {
        "id": "HH1FXgPImk7M",
        "outputId": "d039d948-7d62-42e8-9fd7-3efd72051d4e",
        "colab": {
          "base_uri": "https://localhost:8080/"
        }
      },
      "source": [
        "vowels = ('a','e','i','o','u','A','E','I','O','U')\n",
        "if input_str.startswith(vowels):\n",
        "  print(\"YES\")\n",
        "else:\n",
        "  print(\"NO\")  \n",
        " "
      ],
      "execution_count": 151,
      "outputs": [
        {
          "output_type": "stream",
          "text": [
            "NO\n"
          ],
          "name": "stdout"
        }
      ]
    },
    {
      "cell_type": "code",
      "metadata": {
        "id": "wUSONUgOm8Ol",
        "outputId": "19ac7ad8-6a27-4615-a364-1a9d82f7e27d",
        "colab": {
          "base_uri": "https://localhost:8080/"
        }
      },
      "source": [
        "if (10 < 0) and (0 < -10):\n",
        "    print(\"A\")\n",
        "elif (10 > 0) or False:\n",
        "    print(\"B\")\n",
        "else:\n",
        "    print(\"C\")"
      ],
      "execution_count": 152,
      "outputs": [
        {
          "output_type": "stream",
          "text": [
            "B\n"
          ],
          "name": "stdout"
        }
      ]
    },
    {
      "cell_type": "code",
      "metadata": {
        "id": "oofsDZXeo2mw",
        "outputId": "2ebf978d-f8ae-474c-c8cf-ab5e35c37a19",
        "colab": {
          "base_uri": "https://localhost:8080/"
        }
      },
      "source": [
        "if True or True:\n",
        "    if False and True or False:\n",
        "        print('A')\n",
        "    elif False and False or True and True:\n",
        "        print('B')\n",
        "    else:\n",
        "        print('C')\n",
        "else:\n",
        "    print('D')"
      ],
      "execution_count": 153,
      "outputs": [
        {
          "output_type": "stream",
          "text": [
            "B\n"
          ],
          "name": "stdout"
        }
      ]
    },
    {
      "cell_type": "code",
      "metadata": {
        "id": "JHCk2X4io-T-",
        "outputId": "1dd92270-8aac-4de2-d23b-72571d30f523",
        "colab": {
          "base_uri": "https://localhost:8080/"
        }
      },
      "source": [
        "d = {0: 'Fish', 1: 'Bird', 2: 'Mammal'}\n",
        "for i in d:\n",
        "    print(i)"
      ],
      "execution_count": 154,
      "outputs": [
        {
          "output_type": "stream",
          "text": [
            "0\n",
            "1\n",
            "2\n"
          ],
          "name": "stdout"
        }
      ]
    },
    {
      "cell_type": "code",
      "metadata": {
        "id": "_9R42qfApG0U",
        "outputId": "204b6756-9744-4e01-ce48-904dd55fb0aa",
        "colab": {
          "base_uri": "https://localhost:8080/"
        }
      },
      "source": [
        "d = {0, 1, 2}\n",
        "for x in d:\n",
        "    print(d.add(x))"
      ],
      "execution_count": 155,
      "outputs": [
        {
          "output_type": "stream",
          "text": [
            "None\n",
            "None\n",
            "None\n"
          ],
          "name": "stdout"
        }
      ]
    },
    {
      "cell_type": "code",
      "metadata": {
        "id": "9VciZ-fApQSw",
        "outputId": "25ec8218-5a90-4e9a-b46e-45a2513f2ea4",
        "colab": {
          "base_uri": "https://localhost:8080/"
        }
      },
      "source": [
        "for i in range(1,6):\n",
        "    if (i % 3 == 0):\n",
        "        print(str(i) + \" is Divisible by 3\")\n",
        "        break\n",
        "\n",
        "    print(str(i) + \" is not divisible by 3\")\n",
        " \n",
        "\n"
      ],
      "execution_count": 157,
      "outputs": [
        {
          "output_type": "stream",
          "text": [
            "1 is not divisible by 3\n",
            "2 is not divisible by 3\n",
            "3 is Divisible by 3\n"
          ],
          "name": "stdout"
        }
      ]
    },
    {
      "cell_type": "code",
      "metadata": {
        "id": "VAkaPch2pWH6",
        "outputId": "a98414c1-ad9b-451a-af92-38624e43a6ba",
        "colab": {
          "base_uri": "https://localhost:8080/"
        }
      },
      "source": [
        "for i in range(1,6):\n",
        "    if (i % 3 == 0):\n",
        "        print(str(i) + \" is Divisible by 3\")\n",
        "        continue\n",
        "\n",
        "    print(str(i) + \" is not divisible by 3\")\n",
        " \n",
        "\n"
      ],
      "execution_count": 158,
      "outputs": [
        {
          "output_type": "stream",
          "text": [
            "1 is not divisible by 3\n",
            "2 is not divisible by 3\n",
            "3 is Divisible by 3\n",
            "4 is not divisible by 3\n",
            "5 is not divisible by 3\n"
          ],
          "name": "stdout"
        }
      ]
    },
    {
      "cell_type": "code",
      "metadata": {
        "id": "KUQdwit3qmK2",
        "outputId": "9517635b-cd5e-410b-a925-959068bcb163",
        "colab": {
          "base_uri": "https://localhost:8080/"
        }
      },
      "source": [
        "for i in range(1,6):\n",
        "    if (i % 3 == 0):\n",
        "        print(str(i) + \" is Divisible by 3\")\n",
        "        pass\n",
        "\n",
        "    print(str(i) + \" is not divisible by 3\")"
      ],
      "execution_count": 159,
      "outputs": [
        {
          "output_type": "stream",
          "text": [
            "1 is not divisible by 3\n",
            "2 is not divisible by 3\n",
            "3 is Divisible by 3\n",
            "3 is not divisible by 3\n",
            "4 is not divisible by 3\n",
            "5 is not divisible by 3\n"
          ],
          "name": "stdout"
        }
      ]
    },
    {
      "cell_type": "markdown",
      "metadata": {
        "id": "bl29WXXku6tM"
      },
      "source": [
        "Creating a List Comprehension"
      ]
    },
    {
      "cell_type": "code",
      "metadata": {
        "id": "z8I0YJklqnqi"
      },
      "source": [
        "n = 5"
      ],
      "execution_count": 161,
      "outputs": []
    },
    {
      "cell_type": "code",
      "metadata": {
        "id": "FgAhWPR7vcCZ",
        "outputId": "e3800dc2-a3c1-4d51-bdbf-3accbe48f9bb",
        "colab": {
          "base_uri": "https://localhost:8080/"
        }
      },
      "source": [
        "for i in range(1,n+1):\n",
        "  print(i**2)"
      ],
      "execution_count": 163,
      "outputs": [
        {
          "output_type": "stream",
          "text": [
            "1\n",
            "4\n",
            "9\n",
            "16\n",
            "25\n"
          ],
          "name": "stdout"
        }
      ]
    },
    {
      "cell_type": "code",
      "metadata": {
        "id": "DKbWu0ApvyPH",
        "outputId": "4b5daead-5a9e-49fd-bef8-bbc1db5a7bff",
        "colab": {
          "base_uri": "https://localhost:8080/"
        }
      },
      "source": [
        "print([i**2 for i in range(1,n+1)])"
      ],
      "execution_count": 166,
      "outputs": [
        {
          "output_type": "execute_result",
          "data": {
            "text/plain": [
              "[1, 4, 9, 16, 25]"
            ]
          },
          "metadata": {
            "tags": []
          },
          "execution_count": 166
        }
      ]
    },
    {
      "cell_type": "code",
      "metadata": {
        "id": "leFcqxDrwOXI"
      },
      "source": [
        "input_list=[\"wood\", \"old\", \"apple\", \"big\", \"item\", \"euphoria\"]\n",
        "vowels = ['a','e','i','o','u','A','E','I','O','U']"
      ],
      "execution_count": 169,
      "outputs": []
    },
    {
      "cell_type": "code",
      "metadata": {
        "id": "WYfaaJQZwQVY"
      },
      "source": [
        "list_vowel = [input_list for input_list in input_list if input_list[0] in vowels]"
      ],
      "execution_count": 170,
      "outputs": []
    },
    {
      "cell_type": "code",
      "metadata": {
        "id": "7GRPx10SxsCv",
        "outputId": "b81a3337-3910-43d1-ec1f-d3a5af9d3ced",
        "colab": {
          "base_uri": "https://localhost:8080/"
        }
      },
      "source": [
        "list_vowel"
      ],
      "execution_count": 171,
      "outputs": [
        {
          "output_type": "execute_result",
          "data": {
            "text/plain": [
              "['old', 'apple', 'item', 'euphoria']"
            ]
          },
          "metadata": {
            "tags": []
          },
          "execution_count": 171
        }
      ]
    },
    {
      "cell_type": "code",
      "metadata": {
        "id": "4gj960DwyOg3"
      },
      "source": [
        "n = 5"
      ],
      "execution_count": null,
      "outputs": []
    },
    {
      "cell_type": "code",
      "metadata": {
        "id": "AiqE28BAyR1J"
      },
      "source": [
        "dictionary = dict((i,i**2) for i in range(1,n+1))"
      ],
      "execution_count": 172,
      "outputs": []
    },
    {
      "cell_type": "code",
      "metadata": {
        "id": "lNpStGc9ymFg",
        "outputId": "9f9ebd2b-2cdd-4dd5-d605-26de30dbbd8e",
        "colab": {
          "base_uri": "https://localhost:8080/"
        }
      },
      "source": [
        "dictionary"
      ],
      "execution_count": 173,
      "outputs": [
        {
          "output_type": "execute_result",
          "data": {
            "text/plain": [
              "{1: 1, 2: 4, 3: 9, 4: 16, 5: 25}"
            ]
          },
          "metadata": {
            "tags": []
          },
          "execution_count": 173
        }
      ]
    },
    {
      "cell_type": "code",
      "metadata": {
        "id": "MH48Z92AynoU",
        "outputId": "1bf63d03-25f1-462e-d263-c6b5137052e6",
        "colab": {
          "base_uri": "https://localhost:8080/"
        }
      },
      "source": [
        "print([i+j for i in \"abc\" for j in \"def\"])"
      ],
      "execution_count": 174,
      "outputs": [
        {
          "output_type": "stream",
          "text": [
            "['ad', 'ae', 'af', 'bd', 'be', 'bf', 'cd', 'ce', 'cf']\n"
          ],
          "name": "stdout"
        }
      ]
    },
    {
      "cell_type": "code",
      "metadata": {
        "id": "OvyLAE7Oyvy9",
        "outputId": "0ce38ca2-fbed-4630-a388-ec1a487f4c86",
        "colab": {
          "base_uri": "https://localhost:8080/"
        }
      },
      "source": [
        "d = {x.upper(): x*3 for x in 'acbd'}\n",
        "print(d)"
      ],
      "execution_count": 175,
      "outputs": [
        {
          "output_type": "stream",
          "text": [
            "{'A': 'aaa', 'C': 'ccc', 'B': 'bbb', 'D': 'ddd'}\n"
          ],
          "name": "stdout"
        }
      ]
    },
    {
      "cell_type": "code",
      "metadata": {
        "id": "A3H10z8VzMHr",
        "outputId": "520a92ed-094e-431a-9843-844e4404d672",
        "colab": {
          "base_uri": "https://localhost:8080/"
        }
      },
      "source": [
        "def squared(x,y):\n",
        "  return x**y\n",
        "\n",
        "\n",
        "print(squared(2,3))  "
      ],
      "execution_count": 176,
      "outputs": [
        {
          "output_type": "stream",
          "text": [
            "8\n"
          ],
          "name": "stdout"
        }
      ]
    },
    {
      "cell_type": "code",
      "metadata": {
        "id": "Ax0bffYqzaY5"
      },
      "source": [
        "greater = lambda x,y :x if x>y  else y"
      ],
      "execution_count": 183,
      "outputs": []
    },
    {
      "cell_type": "code",
      "metadata": {
        "id": "WZFH9Q_20tjY",
        "outputId": "32518993-41be-4352-8f7b-97f0dc37e423",
        "colab": {
          "base_uri": "https://localhost:8080/"
        }
      },
      "source": [
        "greater(2,3)"
      ],
      "execution_count": 181,
      "outputs": [
        {
          "output_type": "execute_result",
          "data": {
            "text/plain": [
              "3"
            ]
          },
          "metadata": {
            "tags": []
          },
          "execution_count": 181
        }
      ]
    },
    {
      "cell_type": "code",
      "metadata": {
        "id": "J2cbRqd70yJ0",
        "outputId": "03fe1f82-89f1-4cc2-bfd8-77698686110d",
        "colab": {
          "base_uri": "https://localhost:8080/"
        }
      },
      "source": [
        "def say(message, times = 1):\n",
        "    print(message * times)\n",
        "\n",
        "say('Hello')\n",
        "say('World', 5)"
      ],
      "execution_count": 184,
      "outputs": [
        {
          "output_type": "stream",
          "text": [
            "Hello\n",
            "WorldWorldWorldWorldWorld\n"
          ],
          "name": "stdout"
        }
      ]
    },
    {
      "cell_type": "code",
      "metadata": {
        "id": "LhLXMcnA1ibi",
        "outputId": "7f647a1b-d7b6-4c24-ad73-3f3e2251e643",
        "colab": {
          "base_uri": "https://localhost:8080/"
        }
      },
      "source": [
        "min = (lambda x, y: x if x < y else y)\n",
        "min(101*99, 102*98)"
      ],
      "execution_count": 185,
      "outputs": [
        {
          "output_type": "execute_result",
          "data": {
            "text/plain": [
              "9996"
            ]
          },
          "metadata": {
            "tags": []
          },
          "execution_count": 185
        }
      ]
    },
    {
      "cell_type": "code",
      "metadata": {
        "id": "hHQBt92H1-Sz"
      },
      "source": [
        "cube = list(map(lambda x: x*x*x, input_list))\n",
        "print(cube)"
      ],
      "execution_count": null,
      "outputs": []
    },
    {
      "cell_type": "code",
      "metadata": {
        "id": "rmPseqmB240i"
      },
      "source": [
        "sum(map(lambda x: x[0] == 'S', input_list))"
      ],
      "execution_count": null,
      "outputs": []
    },
    {
      "cell_type": "code",
      "metadata": {
        "id": "nAkSFgKe3whu"
      },
      "source": [
        "name = list(map(lambda x, y: x[0]+x[1:]+' '+ y[0]+y[1:], first_name, last_name))"
      ],
      "execution_count": null,
      "outputs": []
    },
    {
      "cell_type": "code",
      "metadata": {
        "id": "kYf6XXP23_FH"
      },
      "source": [
        "list_answer = list(filter(lambda x:  x % 5 == 0, input_list))"
      ],
      "execution_count": null,
      "outputs": []
    },
    {
      "cell_type": "code",
      "metadata": {
        "id": "tBAnlIqY3_8N"
      },
      "source": [
        "sp = list(filter(lambda x:x.endswith(\"s\") or x.endswith(\"p\"), input_list))"
      ],
      "execution_count": null,
      "outputs": []
    },
    {
      "cell_type": "code",
      "metadata": {
        "id": "YVKVbILa4Nq2"
      },
      "source": [
        "print(reduce(lambda x,y: x+\" \"+y, input_list))\n"
      ],
      "execution_count": null,
      "outputs": []
    },
    {
      "cell_type": "code",
      "metadata": {
        "id": "gO0dMYTw5Mu6"
      },
      "source": [
        "# . Find and print the largest number in input_list using the reduce() function.\n",
        "input_list = [31, 63, 76, 89]\n",
        "answer = reduce(lambda x,y: x if x > y else y, input_list)"
      ],
      "execution_count": null,
      "outputs": []
    },
    {
      "cell_type": "code",
      "metadata": {
        "id": "9MeE_IjN58dm",
        "outputId": "5cd062dd-e954-4240-9bfe-fc3eb3afb853",
        "colab": {
          "base_uri": "https://localhost:8080/"
        }
      },
      "source": [
        "((500//7) % 5) ** 3"
      ],
      "execution_count": 186,
      "outputs": [
        {
          "output_type": "execute_result",
          "data": {
            "text/plain": [
              "1"
            ]
          },
          "metadata": {
            "tags": []
          },
          "execution_count": 186
        }
      ]
    },
    {
      "cell_type": "code",
      "metadata": {
        "id": "wkiCSAEi6ICF"
      },
      "source": [
        "S = \"I love Python\""
      ],
      "execution_count": 187,
      "outputs": []
    },
    {
      "cell_type": "code",
      "metadata": {
        "id": "XYJ4DW_U6Q7W",
        "outputId": "ebdd6dec-cfbd-4609-9a21-408e342520d7",
        "colab": {
          "base_uri": "https://localhost:8080/",
          "height": 35
        }
      },
      "source": [
        "S[2:6]"
      ],
      "execution_count": 190,
      "outputs": [
        {
          "output_type": "execute_result",
          "data": {
            "application/vnd.google.colaboratory.intrinsic+json": {
              "type": "string"
            },
            "text/plain": [
              "'love'"
            ]
          },
          "metadata": {
            "tags": []
          },
          "execution_count": 190
        }
      ]
    },
    {
      "cell_type": "code",
      "metadata": {
        "id": "2FyR3rOm6Vgb",
        "outputId": "2a0347c0-83ef-4af3-828a-610a6b54c14c",
        "colab": {
          "base_uri": "https://localhost:8080/",
          "height": 35
        }
      },
      "source": [
        "\n",
        "S[-11:-7]"
      ],
      "execution_count": 191,
      "outputs": [
        {
          "output_type": "execute_result",
          "data": {
            "application/vnd.google.colaboratory.intrinsic+json": {
              "type": "string"
            },
            "text/plain": [
              "'love'"
            ]
          },
          "metadata": {
            "tags": []
          },
          "execution_count": 191
        }
      ]
    },
    {
      "cell_type": "code",
      "metadata": {
        "id": "mIEfzqUU6epp"
      },
      "source": [
        "L = [1, 2, 3]"
      ],
      "execution_count": 193,
      "outputs": []
    },
    {
      "cell_type": "code",
      "metadata": {
        "id": "VY7mlrnV6mjq",
        "outputId": "3952f46a-0e70-4de1-c3b8-3068ad3cd11a",
        "colab": {
          "base_uri": "https://localhost:8080/"
        }
      },
      "source": [
        "L * 2"
      ],
      "execution_count": 194,
      "outputs": [
        {
          "output_type": "execute_result",
          "data": {
            "text/plain": [
              "[1, 2, 3, 1, 2, 3]"
            ]
          },
          "metadata": {
            "tags": []
          },
          "execution_count": 194
        }
      ]
    },
    {
      "cell_type": "code",
      "metadata": {
        "id": "Z3TFm7yB6rt2"
      },
      "source": [
        "L = [[1, 2, 3], [4, 5, 6], [7, 8, 9, 10]]"
      ],
      "execution_count": 195,
      "outputs": []
    },
    {
      "cell_type": "code",
      "metadata": {
        "id": "nLHkPrX663pE",
        "outputId": "20fa224a-644f-48e9-96da-950837938613",
        "colab": {
          "base_uri": "https://localhost:8080/"
        }
      },
      "source": [
        "L[2: ]"
      ],
      "execution_count": 196,
      "outputs": [
        {
          "output_type": "execute_result",
          "data": {
            "text/plain": [
              "[[7, 8, 9, 10]]"
            ]
          },
          "metadata": {
            "tags": []
          },
          "execution_count": 196
        }
      ]
    },
    {
      "cell_type": "code",
      "metadata": {
        "id": "3OzXZRwV655n"
      },
      "source": [
        "T = (3, 5, 7, 11)"
      ],
      "execution_count": 197,
      "outputs": []
    },
    {
      "cell_type": "code",
      "metadata": {
        "id": "CqjvEU1V7Cd-",
        "outputId": "e402d9b5-004b-41da-dc34-06b4b0761ef8",
        "colab": {
          "base_uri": "https://localhost:8080/",
          "height": 166
        }
      },
      "source": [
        "T.append(9)"
      ],
      "execution_count": 198,
      "outputs": [
        {
          "output_type": "error",
          "ename": "AttributeError",
          "evalue": "ignored",
          "traceback": [
            "\u001b[0;31m---------------------------------------------------------------------------\u001b[0m",
            "\u001b[0;31mAttributeError\u001b[0m                            Traceback (most recent call last)",
            "\u001b[0;32m<ipython-input-198-073c8dc16c52>\u001b[0m in \u001b[0;36m<module>\u001b[0;34m()\u001b[0m\n\u001b[0;32m----> 1\u001b[0;31m \u001b[0mT\u001b[0m\u001b[0;34m.\u001b[0m\u001b[0mappend\u001b[0m\u001b[0;34m(\u001b[0m\u001b[0;36m9\u001b[0m\u001b[0;34m)\u001b[0m\u001b[0;34m\u001b[0m\u001b[0;34m\u001b[0m\u001b[0m\n\u001b[0m",
            "\u001b[0;31mAttributeError\u001b[0m: 'tuple' object has no attribute 'append'"
          ]
        }
      ]
    },
    {
      "cell_type": "code",
      "metadata": {
        "id": "qrBr0IIS7ESr",
        "outputId": "05d8a4a1-dffd-47a0-893a-fab18d4a24bb",
        "colab": {
          "base_uri": "https://localhost:8080/"
        }
      },
      "source": [
        "D = {1:['Raj', 22], 2:['Simran', 21], 3:['Rahul', 40]}\n",
        "for val in D:\n",
        "     print(val)"
      ],
      "execution_count": 199,
      "outputs": [
        {
          "output_type": "stream",
          "text": [
            "1\n",
            "2\n",
            "3\n"
          ],
          "name": "stdout"
        }
      ]
    },
    {
      "cell_type": "code",
      "metadata": {
        "id": "8SGa_ska7KTF",
        "outputId": "b64c0e4d-44c2-4c8b-9ec3-d26fce35e996",
        "colab": {
          "base_uri": "https://localhost:8080/",
          "height": 201
        }
      },
      "source": [
        "for sentence in paragraph:\n",
        "    for word in sentence.split():\n",
        "        single_word_list.append(word)"
      ],
      "execution_count": 200,
      "outputs": [
        {
          "output_type": "error",
          "ename": "NameError",
          "evalue": "ignored",
          "traceback": [
            "\u001b[0;31m---------------------------------------------------------------------------\u001b[0m",
            "\u001b[0;31mNameError\u001b[0m                                 Traceback (most recent call last)",
            "\u001b[0;32m<ipython-input-200-53fdd3c097f6>\u001b[0m in \u001b[0;36m<module>\u001b[0;34m()\u001b[0m\n\u001b[0;32m----> 1\u001b[0;31m \u001b[0;32mfor\u001b[0m \u001b[0msentence\u001b[0m \u001b[0;32min\u001b[0m \u001b[0mparagraph\u001b[0m\u001b[0;34m:\u001b[0m\u001b[0;34m\u001b[0m\u001b[0;34m\u001b[0m\u001b[0m\n\u001b[0m\u001b[1;32m      2\u001b[0m     \u001b[0;32mfor\u001b[0m \u001b[0mword\u001b[0m \u001b[0;32min\u001b[0m \u001b[0msentence\u001b[0m\u001b[0;34m.\u001b[0m\u001b[0msplit\u001b[0m\u001b[0;34m(\u001b[0m\u001b[0;34m)\u001b[0m\u001b[0;34m:\u001b[0m\u001b[0;34m\u001b[0m\u001b[0;34m\u001b[0m\u001b[0m\n\u001b[1;32m      3\u001b[0m         \u001b[0msingle_word_list\u001b[0m\u001b[0;34m.\u001b[0m\u001b[0mappend\u001b[0m\u001b[0;34m(\u001b[0m\u001b[0mword\u001b[0m\u001b[0;34m)\u001b[0m\u001b[0;34m\u001b[0m\u001b[0;34m\u001b[0m\u001b[0m\n",
            "\u001b[0;31mNameError\u001b[0m: name 'paragraph' is not defined"
          ]
        }
      ]
    },
    {
      "cell_type": "code",
      "metadata": {
        "id": "et64g1kG7Qz3",
        "outputId": "5a0814fb-0c20-4821-8ed5-c52d09dc9110",
        "colab": {
          "base_uri": "https://localhost:8080/"
        }
      },
      "source": [
        "def my_func(*args):\n",
        "    return(sum(args))\n",
        "\n",
        "print(my_func(1,2,3,4,5))\n",
        "print(my_func(6,7,8))"
      ],
      "execution_count": 201,
      "outputs": [
        {
          "output_type": "stream",
          "text": [
            "15\n",
            "21\n"
          ],
          "name": "stdout"
        }
      ]
    },
    {
      "cell_type": "code",
      "metadata": {
        "id": "IiUCHiNd7xLY"
      },
      "source": [
        "L = [1, 2, 3, 4]"
      ],
      "execution_count": 203,
      "outputs": []
    },
    {
      "cell_type": "code",
      "metadata": {
        "id": "Ei7syPD_75z2",
        "outputId": "11d5a055-dac1-4c95-88fe-eacf4c56506d",
        "colab": {
          "base_uri": "https://localhost:8080/"
        }
      },
      "source": [
        "list(map(lambda x : x ** 2, L))"
      ],
      "execution_count": 206,
      "outputs": [
        {
          "output_type": "execute_result",
          "data": {
            "text/plain": [
              "[1, 4, 9, 16]"
            ]
          },
          "metadata": {
            "tags": []
          },
          "execution_count": 206
        }
      ]
    },
    {
      "cell_type": "code",
      "metadata": {
        "id": "vyR5KLHp8K85"
      },
      "source": [
        ""
      ],
      "execution_count": null,
      "outputs": []
    }
  ]
}